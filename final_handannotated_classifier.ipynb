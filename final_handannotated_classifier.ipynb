{
 "cells": [
  {
   "cell_type": "code",
   "execution_count": 1,
   "metadata": {},
   "outputs": [],
   "source": [
    "#auch kein sampling,  nur class weight\n",
    "%store -r handannotated_texts\n",
    "%store -r handannotated_labels"
   ]
  },
  {
   "cell_type": "code",
   "execution_count": 40,
   "metadata": {},
   "outputs": [
    {
     "name": "stdout",
     "output_type": "stream",
     "text": [
      "#######################################################\n"
     ]
    }
   ],
   "source": [
    "#test for hashtags\n",
    "%store -r agreements\n",
    "nonemotional = []\n",
    "emotional = []\n",
    "for t in agreements:\n",
    "    if t[1] == \"0\":\n",
    "        nonemotional.append(t[0])\n",
    "    elif t[1] == \"1\":\n",
    "        emotional.append(t[0])\n",
    "for post in emotional:\n",
    "    if \"#jhj\" in post:\n",
    "        print(post)\n",
    "    elif \"#geschichteammorgen\" in post:\n",
    "        print(post)\n",
    "print(\"#######################################################\")        \n",
    "for post in nonemotional:\n",
    "    if \"#mimimi\" in post:\n",
    "        print(post)\n",
    "    elif \"#DBakel\" in post:\n",
    "        print(post)\n",
    "    elif \"#dbakel\" in post:\n",
    "        print(post)\n",
    "    elif \"#DBakel\" in post:\n",
    "        print(post)\n",
    "    elif \"#dankemerkel\" in post:\n",
    "        print(post)\n",
    "    elif \"#dankefürnix\" in post:\n",
    "        print(post)\n",
    "    elif \"#wudel\" in post:\n",
    "        print(post)\n",
    "    elif \"#Wudel\" in post:\n",
    "        print(post)\n",
    "    elif \"#verzweifelt\" in post:\n",
    "        print(post)\n",
    "        \n"
   ]
  },
  {
   "cell_type": "code",
   "execution_count": 2,
   "metadata": {},
   "outputs": [],
   "source": [
    "from sklearn.feature_extraction.text import CountVectorizer\n",
    "import nltk"
   ]
  },
  {
   "cell_type": "code",
   "execution_count": 3,
   "metadata": {},
   "outputs": [],
   "source": [
    "#######clean#######"
   ]
  },
  {
   "cell_type": "code",
   "execution_count": 4,
   "metadata": {},
   "outputs": [],
   "source": [
    "from num2words import num2words\n",
    "#convert everything to lowercase\n",
    "handannotated_texts = [x.lower() for x in handannotated_texts]\n",
    "#exchange numbers with their string representation\n",
    "#make numbers to text\n",
    "temp = []\n",
    "without_num = []\n",
    "for post in handannotated_texts:\n",
    "    for word in post.split(\" \"):\n",
    "        if word.isdigit():\n",
    "            #print(word)\n",
    "            word = num2words(word, lang=\"de\")\n",
    "        temp.append(word)\n",
    "    without_num.append((' '.join(temp)))\n",
    "    temp = []\n",
    "handannotated_texts = without_num"
   ]
  },
  {
   "cell_type": "code",
   "execution_count": 5,
   "metadata": {},
   "outputs": [],
   "source": [
    "###############feature extraction########"
   ]
  },
  {
   "cell_type": "code",
   "execution_count": 6,
   "metadata": {},
   "outputs": [],
   "source": [
    "#emoji feature\n",
    "emojis = [\"😷\",\"😫\",\"🤮\", \"😣\", \"😕\", \"😍\", \"😞\", \"😢\", \"😂\", \"🥰\", \"😭\",\n",
    "          \"😱\", \"😒\", \"😔\",\"😕\", \"😖\", \"😫\", \"😤\", \"😠\", \"😡\", \"🤬\",\"😪\"]\n",
    "from copy import deepcopy\n",
    "contains_emotional_emojis = deepcopy(handannotated_texts) #FEATURE\n",
    "#print(contains_emotional_emojis)\n",
    "for n, post in enumerate(contains_emotional_emojis):\n",
    "    for e in emojis:\n",
    "        if e in post:\n",
    "            #print(post)\n",
    "            contains_emotional_emojis[n] = [1]\n",
    "for n,i in enumerate(contains_emotional_emojis):\n",
    "    if not i == [1]:\n",
    "        contains_emotional_emojis[n] = [0] "
   ]
  },
  {
   "cell_type": "code",
   "execution_count": 7,
   "metadata": {},
   "outputs": [
    {
     "data": {
      "text/plain": [
       "8"
      ]
     },
     "execution_count": 7,
     "metadata": {},
     "output_type": "execute_result"
    }
   ],
   "source": [
    "#hashtag-features\n",
    "\n",
    "#EMOTIONAL\n",
    "binary_emotional_hashtags = deepcopy(handannotated_texts) #FEATURE\n",
    "for i, post in enumerate(binary_emotional_hashtags):\n",
    "    if \"#mimimi\" in post:\n",
    "        binary_emotional_hashtags[i] = [1]\n",
    "    elif \"#DBakel\" in post:\n",
    "        binary_emotional_hashtags[i] = [1]\n",
    "    elif \"#dbakel\" in post:\n",
    "        binary_emotional_hashtags[i] = [1]\n",
    "    elif \"#DBakel\" in post:\n",
    "        binary_emotional_hashtags[i] = [1]\n",
    "    elif \"#dankemerkel\" in post:\n",
    "        binary_emotional_hashtags[i] = [1]\n",
    "    elif \"#dankefürnix\" in post:\n",
    "        binary_emotional_hashtags[i] = [1]\n",
    "    elif \"#wudel\" in post:\n",
    "        binary_emotional_hashtags[i] = [1]\n",
    "    elif \"#Wudel\" in post:\n",
    "        binary_emotional_hashtags[i] = [1]\n",
    "    elif \"#verzweifelt\" in post:\n",
    "        binary_emotional_hashtags[i] = [1]\n",
    "        \n",
    "for i, post in enumerate(binary_emotional_hashtags):\n",
    "    if not post == [1]:\n",
    "        binary_emotional_hashtags[i] = [0]\n",
    "        \n",
    "#NON EMOTIONAL\n",
    "binary_non_emotional_hashtags = deepcopy(handannotated_texts) #FEATURE\n",
    "for i, post in enumerate(binary_non_emotional_hashtags):\n",
    "    if \"#jhj\" in post:\n",
    "        binary_non_emotional_hashtags[i] = [1]\n",
    "    elif \"#geschichteammorgen\" in post:\n",
    "        binary_non_emotional_hashtags[i] = [1]\n",
    "for i, post in enumerate(binary_non_emotional_hashtags):\n",
    "    if not post == [1]:\n",
    "        binary_non_emotional_hashtags[i] = [0]        \n",
    "binary_non_emotional_hashtags        \n",
    "\n",
    "num_of_hashtags = 0\n",
    "for li in binary_emotional_hashtags:\n",
    "    for i in li:\n",
    "        if i == 1:\n",
    "            num_of_hashtags +=1\n",
    "\n",
    "for li in binary_non_emotional_hashtags:\n",
    "    for i in li:\n",
    "        if i == 1:\n",
    "            num_of_hashtags +=1            \n",
    "            \n",
    "num_of_hashtags\n",
    "    "
   ]
  },
  {
   "cell_type": "code",
   "execution_count": 8,
   "metadata": {},
   "outputs": [],
   "source": [
    "#without deleting stopwords\n",
    "#ngram feature matrices\n",
    "\n",
    "#unigram\n",
    "uni_vectorizer = CountVectorizer(ngram_range=(1,1))\n",
    "unigram_feature_vector = uni_vectorizer.fit_transform(handannotated_texts).toarray() \n",
    "\n",
    "#uni and bigram\n",
    "uni_bi_vectorizer = CountVectorizer(ngram_range=(1,2))\n",
    "unigram_bi_feature_vector = uni_bi_vectorizer.fit_transform(handannotated_texts).toarray() \n",
    "\n",
    "#bigram\n",
    "bi_vectorizer = CountVectorizer(ngram_range=(2,2))\n",
    "bigram_feature_vector = bi_vectorizer.fit_transform(handannotated_texts).toarray()\n",
    "\n",
    "\n",
    "#trigram\n",
    "tri_vectorizer = CountVectorizer(ngram_range=(3,3))\n",
    "trigram_feature_vector = tri_vectorizer.fit_transform(handannotated_texts).toarray() "
   ]
  },
  {
   "cell_type": "code",
   "execution_count": 9,
   "metadata": {},
   "outputs": [],
   "source": [
    "#tfidf vectorizer ohne stopwords zu löschen\n",
    "from sklearn.feature_extraction.text import TfidfVectorizer\n",
    "tfidf_vectorizer = TfidfVectorizer()\n",
    "tfidf = tfidf_vectorizer.fit_transform(handannotated_texts).toarray() #feature matrix"
   ]
  },
  {
   "cell_type": "code",
   "execution_count": 10,
   "metadata": {},
   "outputs": [
    {
     "name": "stdout",
     "output_type": "stream",
     "text": [
      "97\n"
     ]
    }
   ],
   "source": [
    "#numerical features\n",
    "#average length of post, average sentence length, average number of punctuation\n",
    "#punctuation weg lassen weil nicht wirklich aussagekräftig\n",
    "\n",
    "\n",
    "import numpy\n",
    "import string\n",
    "from nltk import tokenize\n",
    "\n",
    "post_length = [] #feature vector\n",
    "counter = 0\n",
    "number_of_punct = [] #feature vector\n",
    "sentence_lengths = [] \n",
    "tokenized_posts = []\n",
    "for text in handannotated_texts:\n",
    "    post_length.append([len(text.split())])\n",
    "    tokenized_posts.append(tokenize.sent_tokenize(text))\n",
    "    for char in text:\n",
    "        if char in string.punctuation:\n",
    "            counter+=1\n",
    "    number_of_punct.append([counter])\n",
    "    counter = 0\n",
    "sent = []\n",
    "for post in tokenized_posts:\n",
    "    for sentence in post:\n",
    "        sent.append(len(sentence.split()))\n",
    "    sentence_lengths.append(sent)\n",
    "    sent = []\n",
    "#get average\n",
    "average_sent_len = [] #feature vector\n",
    "for post in sentence_lengths:\n",
    "    average_sent_len.append([sum(post)/len(post)])    \n",
    "print(len(sentence_lengths)) #why 2169?? need:1269 need one number, maybe the average sentence length?\n",
    "#print(average_sent_len)\n",
    "#print(sentence_lengths)"
   ]
  },
  {
   "cell_type": "code",
   "execution_count": 11,
   "metadata": {},
   "outputs": [
    {
     "name": "stdout",
     "output_type": "stream",
     "text": [
      "97\n"
     ]
    }
   ],
   "source": [
    "#POS features\n",
    "import spacy\n",
    "nlp = spacy.load('de_core_news_md')\n",
    "\n",
    "#get POStags via spacy\n",
    "spacy_obj = []\n",
    "post_as_pos_tags = []\n",
    "as_pos = [] #this\n",
    "for text in handannotated_texts:\n",
    "    spacy_obj.append(nlp(text))\n",
    "for text in spacy_obj:\n",
    "    for token in text:\n",
    "        post_as_pos_tags.append(token.tag_)\n",
    "    as_pos.append(' '.join(post_as_pos_tags))\n",
    "    post_as_pos_tags = []\n",
    "\n",
    "#neue POS-features\n",
    "ADV_count = []\n",
    "PPER_count = []\n",
    "comma_count = []\n",
    "NE_count = []\n",
    "NN_count = []\n",
    "ADJD_count = []\n",
    "for post in as_pos:\n",
    "    ADV_count.append([post.count(\"ADV\")])\n",
    "    PPER_count.append([post.count(\"PPER\")])\n",
    "    comma_count.append([post.count(\"$,\")])\n",
    "    NE_count.append([post.count(\"NE\")])\n",
    "    NN_count.append([post.count(\"NN\")])\n",
    "    ADJD_count.append([post.count(\"ADJD\")])\n",
    "    \n",
    "print(len(ADJD_count))\n",
    "\n",
    "#EXPERIMENTS\n",
    "#get posts as sequence of pos tags\n",
    "#as_pos = sequence of pos tags\n",
    "#make sequences into count vectorizers\n",
    "pos_vec_uni = CountVectorizer(ngram_range=(1,1))\n",
    "pos_uni_count_vec = pos_vec_uni.fit_transform(as_pos).toarray() #uni feature vector\n",
    "pos_vec_bi = CountVectorizer(ngram_range=(2,2))\n",
    "pos_bi_count_vec = pos_vec_bi.fit_transform(as_pos).toarray() #bi feature vector\n",
    "#make theminto tfidf vectorizers\n",
    "tfidf_vectorizer_pos = TfidfVectorizer()\n",
    "tfidf_pos = tfidf_vectorizer_pos.fit_transform(as_pos) #tfidf pos feature matrix hat das iwelche benefits??"
   ]
  },
  {
   "cell_type": "code",
   "execution_count": 12,
   "metadata": {},
   "outputs": [
    {
     "name": "stdout",
     "output_type": "stream",
     "text": [
      "(97, 300)\n"
     ]
    }
   ],
   "source": [
    "#document vectors as features\n",
    "\n",
    "spacy_posts = []\n",
    "vector_posts = []\n",
    "temp_post = []\n",
    "for post in handannotated_texts:\n",
    "    spacy_posts.append(nlp(post))\n",
    "for post in spacy_posts:\n",
    "    for word in post:\n",
    "        temp_post.append(word.vector)\n",
    "    vector_posts.append(temp_post)\n",
    "    temp_post = []\n",
    "    \n",
    "mean_vector_posts = []\n",
    "for post_list in vector_posts:\n",
    "    #print(len(post))\n",
    "    mean_vector_posts.append([sum(post_list)/len(post_list)])\n",
    "    \n",
    "word_vector_feature = numpy.concatenate(mean_vector_posts, axis=0)\n",
    "print(word_vector_feature.shape)   \n"
   ]
  },
  {
   "cell_type": "code",
   "execution_count": 13,
   "metadata": {},
   "outputs": [
    {
     "name": "stdout",
     "output_type": "stream",
     "text": [
      "97\n",
      "from  (97, 48, 300)  to  (97, 14400)\n"
     ]
    }
   ],
   "source": [
    "#wordvectors as features\n",
    "\n",
    "#make all to numpy arrays\n",
    "np_posts = []\n",
    "for p in vector_posts:\n",
    "    np_posts.append(numpy.array(p))\n",
    "\n",
    "\n",
    "#get matrix\n",
    "#test\n",
    "padded_arrays = []\n",
    "for p in np_posts:\n",
    "    padded_arrays.append(numpy.pad(p, ((0, 48 - p.shape[0]), (0, 0)), 'constant', constant_values=0))\n",
    "\n",
    "\n",
    "print(len(padded_arrays))\n",
    "np_pad_arr = numpy.array(padded_arrays)\n",
    "np_pad_arr.shape #shape (97, 48, 300)\n",
    "\n",
    "nodoc = numpy.reshape (np_pad_arr, (97, -1)) #FEATURE VECTOR FOR WORDVECTORS\n",
    "print(\"from \", np_pad_arr.shape, \" to \", nodoc.shape)"
   ]
  },
  {
   "cell_type": "code",
   "execution_count": 14,
   "metadata": {},
   "outputs": [],
   "source": [
    "###################combine feature-vectors:##########################"
   ]
  },
  {
   "cell_type": "code",
   "execution_count": 15,
   "metadata": {},
   "outputs": [
    {
     "name": "stdout",
     "output_type": "stream",
     "text": [
      "97\n"
     ]
    }
   ],
   "source": [
    "#combine feature-vectors:\n",
    "\n",
    "#uni-grams\n",
    "#unigram_feature_vector\n",
    "\n",
    "#bigrams\n",
    "#bigram_feature_vector\n",
    "\n",
    "#trigrams\n",
    "#trigram_feature_vector\n",
    "\n",
    "#unigrams and bigrams\n",
    "#unigram_bigram_feature_vector\n",
    "\n",
    "#tfidf\n",
    "\n",
    "#alle POS-features\n",
    "pos = numpy.append(ADV_count, comma_count, 1)\n",
    "pos = numpy.append(pos, NE_count, 1)\n",
    "pos = numpy.append(pos, NN_count, 1)\n",
    "pos = numpy.append(pos, ADJD_count, 1)\n",
    "pos = numpy.append(pos, PPER_count, 1)\n",
    "\n",
    "#numerical features\n",
    "#sentence_length\n",
    "post_sent = numpy.append(post_length, average_sent_len, 1)\n",
    "post_sent_punct = numpy.append(post_sent, number_of_punct, 1)\n",
    "\n",
    "#documents vectors\n",
    "#word_vector_feature\n",
    "\n",
    "#wordvectors\n",
    "#nodoc\n",
    "\n",
    "#emoji feature\n",
    "#contains_emotional_emojis\n",
    "\n",
    "#hashtag feature\n",
    "hash_ = numpy.append(binary_emotional_hashtags, binary_non_emotional_hashtags, 1)\n",
    "\n",
    "\n",
    "# 3) uni-grams, bigrams, trigrams\n",
    "uni_bi_tri_feat_vec = numpy.append(unigram_feature_vector, bigram_feature_vector, 1)\n",
    "uni_bi_tri_feat_vec = numpy.append(uni_bi_tri_feat_vec,trigram_feature_vector, 1)\n",
    "\n",
    "# 4) tfidf and bigrams\n",
    "tfidf_bigram = numpy.append(tfidf, bigram_feature_vector, 1)\n",
    "\n",
    "# 5) unigrams and POS features\n",
    "uni_pos_new = numpy.append(unigram_feature_vector, pos, 1)\n",
    "\n",
    "# 6) unigrams and numerical features\n",
    "uni_num = numpy.append(unigram_feature_vector, post_sent_punct, 1)\n",
    "\n",
    "# 7) unigrams and POS tags and numerical features\n",
    "uni_num_pos = numpy.append(uni_num, pos, 1)\n",
    "\n",
    "# 8) Bigrams and POS\n",
    "bi_pos_new = numpy.append(bigram_feature_vector, pos, 1)\n",
    "\n",
    "# 9) bigrams and numerical features\n",
    "bi_num = numpy.append(bigram_feature_vector, post_sent_punct, 1)\n",
    "\n",
    "# 10) bigrams and POS tags and numerical features\n",
    "bi_num_pos = numpy.append(bi_num, pos, 1)\n",
    "\n",
    "# 11) tfidf and POS\n",
    "tfidf_pos_new = numpy.append(tfidf, pos, 1)\n",
    "\n",
    "# 12) tfidf and numerical features\n",
    "tfidf_num = numpy.append(tfidf, post_sent_punct, 1)\n",
    "\n",
    "# 13) tfidf and POS tags and numerical features\n",
    "tfidf_num_pos = numpy.append(tfidf_num, pos, 1)\n",
    "\n",
    "# 14) wordvec and POS\n",
    "wordvec_pos = numpy.append(nodoc, pos, 1)\n",
    "\n",
    "# 15) wordvec and numerical features\n",
    "wordvec_num = numpy.append(nodoc, post_sent_punct, 1)\n",
    "\n",
    "# 16) wordvec and POS tags and numerical features\n",
    "wordvec_num_pos = numpy.append(wordvec_num, pos, 1)\n",
    "\n",
    "# 17) docvec and POS\n",
    "docvec_pos = numpy.append(word_vector_feature, pos, 1)\n",
    "\n",
    "# 18) docvec and numerical features\n",
    "docvec_num = numpy.append(word_vector_feature, post_sent_punct, 1)\n",
    "\n",
    "# 19) docvec and POS tags and numerical features\n",
    "docvec_num_pos = numpy.append(docvec_num, pos, 1)\n",
    "\n",
    "\n",
    "# 20)POS and numerical features\n",
    "pos_post_sent_len = numpy.append(pos, post_sent, 1)\n",
    "pos_num = numpy.append(post_sent_punct, pos, 1)\n",
    "\n",
    "# 21) alle\n",
    "all_features = numpy.append(unigram_feature_vector, bigram_feature_vector, 1)\n",
    "all_features = numpy.append(all_features, trigram_feature_vector , 1)\n",
    "all_features = numpy.append(all_features, tfidf, 1)\n",
    "all_features = numpy.append(all_features,post_sent_punct, 1)\n",
    "all_features = numpy.append(all_features, pos, 1)\n",
    "all_features = numpy.append(all_features,nodoc, 1)\n",
    "all_features = numpy.append(all_features,word_vector_feature, 1)\n",
    "all_features = numpy.append(all_features,contains_emotional_emojis, 1)\n",
    "all_features = numpy.append(all_features,hash_ ,1)\n",
    "\n",
    "# 22) hash unigram\n",
    "emot_uni = numpy.append(unigram_feature_vector, contains_emotional_emojis, 1)\n",
    "# 23) hash bigram\n",
    "emot_bi = numpy.append(bigram_feature_vector,contains_emotional_emojis, 1)\n",
    "# 24) hash tfidf\n",
    "emot_tfidf = numpy.append(tfidf,contains_emotional_emojis, 1)\n",
    "# 25) hash wordvectors\n",
    "emot_wordvec = numpy.append(nodoc,contains_emotional_emojis, 1)\n",
    "# 26) hash docvecs\n",
    "emot_docvec = numpy.append(word_vector_feature,contains_emotional_emojis, 1)\n",
    "\n",
    "# 27) hash unigram\n",
    "hash_uni = numpy.append(unigram_feature_vector, hash_, 1)\n",
    "print(len(hash_uni))\n",
    "# 28) hash bigram\n",
    "hash_bi = numpy.append(bigram_feature_vector,hash_, 1)\n",
    "# 29) hash tfidf\n",
    "hash_tfidf = numpy.append(tfidf,hash_, 1)\n",
    "# 30) hash wordvectors\n",
    "hash_wordvec = numpy.append(nodoc,hash_, 1)\n",
    "# 31) hash docvecs\n",
    "hash_docvec = numpy.append(word_vector_feature,hash_, 1)\n",
    "\n",
    "# 32) hash und emoji\n",
    "hash_emot = numpy.append(hash_, contains_emotional_emojis, 1)"
   ]
  },
  {
   "cell_type": "code",
   "execution_count": 16,
   "metadata": {},
   "outputs": [],
   "source": [
    "#########train and test######################"
   ]
  },
  {
   "cell_type": "code",
   "execution_count": 17,
   "metadata": {},
   "outputs": [],
   "source": [
    "######logistic regression########"
   ]
  },
  {
   "cell_type": "code",
   "execution_count": 18,
   "metadata": {},
   "outputs": [],
   "source": [
    "from numpy import mean\n",
    "from numpy import std\n",
    "from sklearn.linear_model import LogisticRegression\n",
    "from sklearn.model_selection import KFold\n",
    "from sklearn.model_selection import cross_val_score\n",
    "from sklearn.metrics import classification_report, confusion_matrix, accuracy_score\n",
    "from sklearn.model_selection import cross_val_predict"
   ]
  },
  {
   "cell_type": "code",
   "execution_count": 19,
   "metadata": {},
   "outputs": [
    {
     "name": "stdout",
     "output_type": "stream",
     "text": [
      "scores: [0.6        0.8        0.9        0.8        1.         0.7\n",
      " 0.8        1.         1.         0.66666667]\n",
      "Accuracy: 0.827 (0.138)\n"
     ]
    }
   ],
   "source": [
    "X = unigram_feature_vector#data\n",
    "y = handannotated_labels#target\n",
    "\n",
    "kf = KFold(n_splits=10, random_state=1, shuffle=True)\n",
    "\n",
    "# create model\n",
    "model = LogisticRegression(class_weight='balanced')\n",
    "\n",
    "# evaluate model\n",
    "scores = cross_val_score(model, X, y, scoring='accuracy', cv=kf, n_jobs=-1)\n",
    "print(\"scores:\", scores)\n",
    "\n",
    "# report performance\n",
    "print('Accuracy: %.3f (%.3f)' % (mean(scores), std(scores)))\n"
   ]
  },
  {
   "cell_type": "code",
   "execution_count": 20,
   "metadata": {},
   "outputs": [
    {
     "name": "stdout",
     "output_type": "stream",
     "text": [
      "scores: [0.6        0.7        0.8        0.9        1.         0.6\n",
      " 0.9        0.77777778 0.88888889 0.66666667]\n",
      "Accuracy: 0.783 (0.132)\n"
     ]
    }
   ],
   "source": [
    "X = bigram_feature_vector#data\n",
    "y = handannotated_labels#target\n",
    "\n",
    "kf = KFold(n_splits=10, random_state=1, shuffle=True)\n",
    "\n",
    "# create model\n",
    "model = LogisticRegression(class_weight='balanced')\n",
    "\n",
    "# evaluate model\n",
    "scores = cross_val_score(model, X, y, scoring='accuracy', cv=kf, n_jobs=-1)\n",
    "print(\"scores:\", scores)\n",
    "\n",
    "# report performance\n",
    "print('Accuracy: %.3f (%.3f)' % (mean(scores), std(scores)))"
   ]
  },
  {
   "cell_type": "code",
   "execution_count": 21,
   "metadata": {},
   "outputs": [
    {
     "name": "stdout",
     "output_type": "stream",
     "text": [
      "scores: [0.6        0.7        0.8        0.9        1.         0.6\n",
      " 0.9        0.77777778 0.88888889 0.66666667]\n",
      "Accuracy: 0.783 (0.132)\n"
     ]
    }
   ],
   "source": [
    "X = trigram_feature_vector#data\n",
    "y = handannotated_labels#target\n",
    "\n",
    "kf = KFold(n_splits=10, random_state=1, shuffle=True)\n",
    "\n",
    "# create model\n",
    "model = LogisticRegression(class_weight='balanced')\n",
    "\n",
    "# evaluate model\n",
    "scores = cross_val_score(model, X, y, scoring='accuracy', cv=kf, n_jobs=-1)\n",
    "print(\"scores:\", scores)\n",
    "\n",
    "# report performance\n",
    "print('Accuracy: %.3f (%.3f)' % (mean(scores), std(scores)))"
   ]
  },
  {
   "cell_type": "code",
   "execution_count": 23,
   "metadata": {},
   "outputs": [
    {
     "name": "stdout",
     "output_type": "stream",
     "text": [
      "scores: [0.6        0.9        0.8        0.9        1.         0.7\n",
      " 0.9        0.88888889 0.88888889 0.66666667]\n",
      "Accuracy: 0.824 (0.121)\n"
     ]
    }
   ],
   "source": [
    "X = tfidf#data\n",
    "y = handannotated_labels#target\n",
    "\n",
    "kf = KFold(n_splits=10, random_state=1, shuffle=True)\n",
    "\n",
    "# create model\n",
    "model = LogisticRegression(class_weight='balanced')\n",
    "\n",
    "# evaluate model\n",
    "scores = cross_val_score(model, X, y, scoring='accuracy', cv=kf, n_jobs=-1)\n",
    "print(\"scores:\", scores)\n",
    "\n",
    "# report performance\n",
    "print('Accuracy: %.3f (%.3f)' % (mean(scores), std(scores)))"
   ]
  },
  {
   "cell_type": "code",
   "execution_count": 24,
   "metadata": {},
   "outputs": [
    {
     "name": "stdout",
     "output_type": "stream",
     "text": [
      "scores: [0.5        0.7        0.8        0.7        0.8        0.6\n",
      " 0.4        0.77777778 0.66666667 0.66666667]\n",
      "Accuracy: 0.661 (0.124)\n"
     ]
    }
   ],
   "source": [
    "X = post_sent_punct#data\n",
    "y = handannotated_labels#target\n",
    "\n",
    "kf = KFold(n_splits=10, random_state=1, shuffle=True)\n",
    "\n",
    "# create model\n",
    "model = LogisticRegression(class_weight='balanced')\n",
    "\n",
    "# evaluate model\n",
    "scores = cross_val_score(model, X, y, scoring='accuracy', cv=kf, n_jobs=-1)\n",
    "print(\"scores:\", scores)\n",
    "\n",
    "# report performance\n",
    "print('Accuracy: %.3f (%.3f)' % (mean(scores), std(scores)))"
   ]
  },
  {
   "cell_type": "code",
   "execution_count": 25,
   "metadata": {},
   "outputs": [
    {
     "name": "stdout",
     "output_type": "stream",
     "text": [
      "scores: [0.9        0.6        0.9        0.7        0.8        0.7\n",
      " 0.7        0.88888889 0.88888889 0.77777778]\n",
      "Accuracy: 0.786 (0.102)\n"
     ]
    }
   ],
   "source": [
    "X = pos#data\n",
    "y = handannotated_labels#target\n",
    "\n",
    "kf = KFold(n_splits=10, random_state=1, shuffle=True)\n",
    "\n",
    "# create model\n",
    "model = LogisticRegression(class_weight='balanced')\n",
    "\n",
    "# evaluate model\n",
    "scores = cross_val_score(model, X, y, scoring='accuracy', cv=kf, n_jobs=-1)\n",
    "print(\"scores:\", scores)\n",
    "\n",
    "# report performance\n",
    "print('Accuracy: %.3f (%.3f)' % (mean(scores), std(scores)))"
   ]
  },
  {
   "cell_type": "code",
   "execution_count": 26,
   "metadata": {},
   "outputs": [
    {
     "name": "stdout",
     "output_type": "stream",
     "text": [
      "scores: [0.8        0.9        0.9        0.9        1.         0.7\n",
      " 0.8        0.55555556 0.88888889 0.66666667]\n",
      "Accuracy: 0.811 (0.128)\n"
     ]
    }
   ],
   "source": [
    "X = nodoc#data\n",
    "y = handannotated_labels#target\n",
    "\n",
    "kf = KFold(n_splits=10, random_state=1, shuffle=True)\n",
    "\n",
    "# create model\n",
    "model = LogisticRegression(class_weight='balanced')\n",
    "\n",
    "# evaluate model\n",
    "scores = cross_val_score(model, X, y, scoring='accuracy', cv=kf, n_jobs=-1)\n",
    "print(\"scores:\", scores)\n",
    "\n",
    "# report performance\n",
    "print('Accuracy: %.3f (%.3f)' % (mean(scores), std(scores)))"
   ]
  },
  {
   "cell_type": "code",
   "execution_count": 27,
   "metadata": {},
   "outputs": [
    {
     "name": "stdout",
     "output_type": "stream",
     "text": [
      "scores: [0.9        0.9        0.9        0.9        1.         0.8\n",
      " 0.9        1.         1.         0.55555556]\n",
      "Accuracy: 0.886 (0.125)\n"
     ]
    }
   ],
   "source": [
    "X = word_vector_feature#data\n",
    "y = handannotated_labels#target\n",
    "\n",
    "kf = KFold(n_splits=10, random_state=1, shuffle=True)\n",
    "\n",
    "# create model\n",
    "model = LogisticRegression(class_weight='balanced')\n",
    "\n",
    "# evaluate model\n",
    "scores = cross_val_score(model, X, y, scoring='accuracy', cv=kf, n_jobs=-1)\n",
    "print(\"scores:\", scores)\n",
    "\n",
    "# report performance\n",
    "print('Accuracy: %.3f (%.3f)' % (mean(scores), std(scores)))"
   ]
  },
  {
   "cell_type": "code",
   "execution_count": 28,
   "metadata": {},
   "outputs": [],
   "source": [
    "##combinations##"
   ]
  },
  {
   "cell_type": "code",
   "execution_count": 29,
   "metadata": {},
   "outputs": [
    {
     "name": "stdout",
     "output_type": "stream",
     "text": [
      "scores: [0.5        0.8        0.9        0.9        1.         0.6\n",
      " 0.9        1.         0.88888889 0.66666667]\n",
      "Accuracy: 0.816 (0.162)\n"
     ]
    }
   ],
   "source": [
    "#2\n",
    "X = unigram_bi_feature_vector#data\n",
    "y = handannotated_labels#target\n",
    "\n",
    "kf = KFold(n_splits=10, random_state=1, shuffle=True)\n",
    "\n",
    "# create model\n",
    "model = LogisticRegression(class_weight='balanced')\n",
    "\n",
    "# evaluate model\n",
    "scores = cross_val_score(model, X, y, scoring='accuracy', cv=kf, n_jobs=-1)\n",
    "print(\"scores:\", scores)\n",
    "\n",
    "# report performance\n",
    "print('Accuracy: %.3f (%.3f)' % (mean(scores), std(scores)))"
   ]
  },
  {
   "cell_type": "code",
   "execution_count": 30,
   "metadata": {},
   "outputs": [
    {
     "name": "stdout",
     "output_type": "stream",
     "text": [
      "scores: [0.5        0.8        0.8        0.9        1.         0.6\n",
      " 0.9        0.88888889 0.88888889 0.66666667]\n",
      "Accuracy: 0.794 (0.149)\n"
     ]
    }
   ],
   "source": [
    "#3\n",
    "X = uni_bi_tri_feat_vec#data\n",
    "y = handannotated_labels#target\n",
    "\n",
    "kf = KFold(n_splits=10, random_state=1, shuffle=True)\n",
    "\n",
    "# create model\n",
    "model = LogisticRegression(class_weight='balanced')\n",
    "\n",
    "# evaluate model\n",
    "scores = cross_val_score(model, X, y, scoring='accuracy', cv=kf, n_jobs=-1)\n",
    "print(\"scores:\", scores)\n",
    "\n",
    "# report performance\n",
    "print('Accuracy: %.3f (%.3f)' % (mean(scores), std(scores)))"
   ]
  },
  {
   "cell_type": "code",
   "execution_count": 31,
   "metadata": {},
   "outputs": [
    {
     "name": "stdout",
     "output_type": "stream",
     "text": [
      "scores: [0.6        0.7        0.8        0.9        1.         0.6\n",
      " 0.9        0.77777778 0.88888889 0.66666667]\n",
      "Accuracy: 0.783 (0.132)\n"
     ]
    }
   ],
   "source": [
    "#4\n",
    "X = tfidf_bigram#data\n",
    "y = handannotated_labels#target\n",
    "\n",
    "kf = KFold(n_splits=10, random_state=1, shuffle=True)\n",
    "\n",
    "# create model\n",
    "model = LogisticRegression(class_weight='balanced')\n",
    "\n",
    "# evaluate model\n",
    "scores = cross_val_score(model, X, y, scoring='accuracy', cv=kf, n_jobs=-1)\n",
    "print(\"scores:\", scores)\n",
    "\n",
    "# report performance\n",
    "print('Accuracy: %.3f (%.3f)' % (mean(scores), std(scores)))"
   ]
  },
  {
   "cell_type": "code",
   "execution_count": 32,
   "metadata": {},
   "outputs": [
    {
     "name": "stdout",
     "output_type": "stream",
     "text": [
      "scores: [0.7        0.7        0.9        0.9        1.         0.7\n",
      " 0.7        0.88888889 1.         0.66666667]\n",
      "Accuracy: 0.816 (0.128)\n"
     ]
    }
   ],
   "source": [
    "#5\n",
    "X = uni_pos_new#data\n",
    "y = handannotated_labels#target\n",
    "\n",
    "kf = KFold(n_splits=10, random_state=1, shuffle=True)\n",
    "\n",
    "# create model\n",
    "model = LogisticRegression(class_weight='balanced')\n",
    "\n",
    "# evaluate model\n",
    "scores = cross_val_score(model, X, y, scoring='accuracy', cv=kf, n_jobs=-1)\n",
    "print(\"scores:\", scores)\n",
    "\n",
    "# report performance\n",
    "print('Accuracy: %.3f (%.3f)' % (mean(scores), std(scores)))"
   ]
  },
  {
   "cell_type": "code",
   "execution_count": 33,
   "metadata": {},
   "outputs": [
    {
     "name": "stdout",
     "output_type": "stream",
     "text": [
      "scores: [0.6        0.7        0.9        0.8        1.         0.6\n",
      " 0.7        0.77777778 1.         0.55555556]\n",
      "Accuracy: 0.763 (0.154)\n"
     ]
    }
   ],
   "source": [
    "#6\n",
    "X = uni_num#data\n",
    "y = handannotated_labels#target\n",
    "\n",
    "kf = KFold(n_splits=10, random_state=1, shuffle=True)\n",
    "\n",
    "# create model\n",
    "model = LogisticRegression(class_weight='balanced')\n",
    "\n",
    "# evaluate model\n",
    "scores = cross_val_score(model, X, y, scoring='accuracy', cv=kf, n_jobs=-1)\n",
    "print(\"scores:\", scores)\n",
    "\n",
    "# report performance\n",
    "print('Accuracy: %.3f (%.3f)' % (mean(scores), std(scores)))"
   ]
  },
  {
   "cell_type": "code",
   "execution_count": 34,
   "metadata": {},
   "outputs": [
    {
     "name": "stdout",
     "output_type": "stream",
     "text": [
      "scores: [0.8        0.7        1.         1.         0.9        0.8\n",
      " 0.8        0.88888889 1.         0.66666667]\n",
      "Accuracy: 0.856 (0.116)\n"
     ]
    }
   ],
   "source": [
    "#7\n",
    "X = uni_num_pos#data\n",
    "y = handannotated_labels#target\n",
    "\n",
    "kf = KFold(n_splits=10, random_state=1, shuffle=True)\n",
    "\n",
    "# create model\n",
    "model = LogisticRegression(class_weight='balanced')\n",
    "\n",
    "# evaluate model\n",
    "scores = cross_val_score(model, X, y, scoring='accuracy', cv=kf, n_jobs=-1)\n",
    "print(\"scores:\", scores)\n",
    "\n",
    "# report performance\n",
    "print('Accuracy: %.3f (%.3f)' % (mean(scores), std(scores)))"
   ]
  },
  {
   "cell_type": "code",
   "execution_count": 35,
   "metadata": {},
   "outputs": [
    {
     "name": "stdout",
     "output_type": "stream",
     "text": [
      "scores: [0.9        0.7        0.8        0.9        0.9        0.7\n",
      " 0.8        0.88888889 1.         0.77777778]\n",
      "Accuracy: 0.837 (0.092)\n"
     ]
    }
   ],
   "source": [
    "#8\n",
    "X = bi_pos_new#data\n",
    "y = handannotated_labels#target\n",
    "\n",
    "kf = KFold(n_splits=10, random_state=1, shuffle=True)\n",
    "\n",
    "# create model\n",
    "model = LogisticRegression(class_weight='balanced')\n",
    "\n",
    "# evaluate model\n",
    "scores = cross_val_score(model, X, y, scoring='accuracy', cv=kf, n_jobs=-1)\n",
    "print(\"scores:\", scores)\n",
    "\n",
    "# report performance\n",
    "print('Accuracy: %.3f (%.3f)' % (mean(scores), std(scores)))"
   ]
  },
  {
   "cell_type": "code",
   "execution_count": 26,
   "metadata": {},
   "outputs": [
    {
     "name": "stdout",
     "output_type": "stream",
     "text": [
      "scores: [0.7        0.7        0.8        0.9        1.         0.6\n",
      " 0.9        0.77777778 0.77777778 0.77777778]\n",
      "Accuracy: 0.793 (0.110)\n"
     ]
    }
   ],
   "source": [
    "#8\n",
    "X = contains_emotional_emojis#data\n",
    "y = handannotated_labels#target\n",
    "\n",
    "kf = KFold(n_splits=10, random_state=1, shuffle=True)\n",
    "\n",
    "# create model\n",
    "model = LogisticRegression(class_weight='balanced')\n",
    "\n",
    "# evaluate model\n",
    "scores = cross_val_score(model, X, y, scoring='accuracy', cv=kf, n_jobs=-1)\n",
    "print(\"scores:\", scores)\n",
    "\n",
    "# report performance\n",
    "print('Accuracy: %.3f (%.3f)' % (mean(scores), std(scores)))"
   ]
  },
  {
   "cell_type": "code",
   "execution_count": 36,
   "metadata": {},
   "outputs": [
    {
     "name": "stdout",
     "output_type": "stream",
     "text": [
      "scores: [0.2        0.7        0.9        0.8        1.         0.6\n",
      " 0.7        0.66666667 0.88888889 0.77777778]\n",
      "Accuracy: 0.723 (0.209)\n"
     ]
    }
   ],
   "source": [
    "#9\n",
    "X = bi_num#data\n",
    "y = handannotated_labels#target\n",
    "\n",
    "kf = KFold(n_splits=10, random_state=1, shuffle=True)\n",
    "\n",
    "# create model\n",
    "model = LogisticRegression(class_weight='balanced')\n",
    "\n",
    "# evaluate model\n",
    "scores = cross_val_score(model, X, y, scoring='accuracy', cv=kf, n_jobs=-1)\n",
    "print(\"scores:\", scores)\n",
    "\n",
    "# report performance\n",
    "print('Accuracy: %.3f (%.3f)' % (mean(scores), std(scores)))"
   ]
  },
  {
   "cell_type": "code",
   "execution_count": 37,
   "metadata": {},
   "outputs": [
    {
     "name": "stdout",
     "output_type": "stream",
     "text": [
      "scores: [0.9        0.7        0.9        1.         0.9        0.6\n",
      " 0.8        0.88888889 1.         0.77777778]\n",
      "Accuracy: 0.847 (0.121)\n"
     ]
    }
   ],
   "source": [
    "#10\n",
    "X = bi_num_pos#data\n",
    "y = handannotated_labels#target\n",
    "\n",
    "kf = KFold(n_splits=10, random_state=1, shuffle=True)\n",
    "\n",
    "# create model\n",
    "model = LogisticRegression(class_weight='balanced')\n",
    "\n",
    "# evaluate model\n",
    "scores = cross_val_score(model, X, y, scoring='accuracy', cv=kf, n_jobs=-1)\n",
    "print(\"scores:\", scores)\n",
    "\n",
    "# report performance\n",
    "print('Accuracy: %.3f (%.3f)' % (mean(scores), std(scores)))"
   ]
  },
  {
   "cell_type": "code",
   "execution_count": 38,
   "metadata": {},
   "outputs": [
    {
     "name": "stdout",
     "output_type": "stream",
     "text": [
      "scores: [0.9        0.5        0.9        0.7        0.8        0.7\n",
      " 0.7        0.88888889 0.88888889 0.77777778]\n",
      "Accuracy: 0.776 (0.123)\n"
     ]
    }
   ],
   "source": [
    "#11\n",
    "X = tfidf_pos_new#data\n",
    "y = handannotated_labels#target\n",
    "\n",
    "kf = KFold(n_splits=10, random_state=1, shuffle=True)\n",
    "\n",
    "# create model\n",
    "model = LogisticRegression(class_weight='balanced')\n",
    "\n",
    "# evaluate model\n",
    "scores = cross_val_score(model, X, y, scoring='accuracy', cv=kf, n_jobs=-1)\n",
    "print(\"scores:\", scores)\n",
    "\n",
    "# report performance\n",
    "print('Accuracy: %.3f (%.3f)' % (mean(scores), std(scores)))"
   ]
  },
  {
   "cell_type": "code",
   "execution_count": 39,
   "metadata": {},
   "outputs": [
    {
     "name": "stdout",
     "output_type": "stream",
     "text": [
      "scores: [0.5        0.6        0.9        0.7        0.8        0.6\n",
      " 0.5        0.77777778 0.77777778 0.77777778]\n",
      "Accuracy: 0.693 (0.130)\n"
     ]
    }
   ],
   "source": [
    "#12\n",
    "X = tfidf_num#data\n",
    "y = handannotated_labels#target\n",
    "\n",
    "kf = KFold(n_splits=10, random_state=1, shuffle=True)\n",
    "\n",
    "# create model\n",
    "model = LogisticRegression(class_weight='balanced')\n",
    "\n",
    "# evaluate model\n",
    "scores = cross_val_score(model, X, y, scoring='accuracy', cv=kf, n_jobs=-1)\n",
    "print(\"scores:\", scores)\n",
    "\n",
    "# report performance\n",
    "print('Accuracy: %.3f (%.3f)' % (mean(scores), std(scores)))"
   ]
  },
  {
   "cell_type": "code",
   "execution_count": 41,
   "metadata": {},
   "outputs": [
    {
     "name": "stdout",
     "output_type": "stream",
     "text": [
      "scores: [0.9        0.6        0.9        1.         0.9        0.7\n",
      " 0.7        0.88888889 0.88888889 0.77777778]\n",
      "Accuracy: 0.826 (0.118)\n"
     ]
    }
   ],
   "source": [
    "#13\n",
    "X = tfidf_num_pos#data\n",
    "y = handannotated_labels#target\n",
    "\n",
    "kf = KFold(n_splits=10, random_state=1, shuffle=True)\n",
    "\n",
    "# create model\n",
    "model = LogisticRegression(class_weight='balanced')\n",
    "\n",
    "# evaluate model\n",
    "scores = cross_val_score(model, X, y, scoring='accuracy', cv=kf, n_jobs=-1)\n",
    "print(\"scores:\", scores)\n",
    "\n",
    "# report performance\n",
    "print('Accuracy: %.3f (%.3f)' % (mean(scores), std(scores)))"
   ]
  },
  {
   "cell_type": "code",
   "execution_count": 42,
   "metadata": {},
   "outputs": [
    {
     "name": "stdout",
     "output_type": "stream",
     "text": [
      "scores: [0.8        0.9        0.9        0.9        1.         0.7\n",
      " 0.8        0.55555556 0.88888889 0.66666667]\n",
      "Accuracy: 0.811 (0.128)\n"
     ]
    }
   ],
   "source": [
    "#14\n",
    "X = wordvec_pos#data\n",
    "y = handannotated_labels#target\n",
    "\n",
    "kf = KFold(n_splits=10, random_state=1, shuffle=True)\n",
    "\n",
    "# create model\n",
    "model = LogisticRegression(class_weight='balanced')\n",
    "\n",
    "# evaluate model\n",
    "scores = cross_val_score(model, X, y, scoring='accuracy', cv=kf, n_jobs=-1)\n",
    "print(\"scores:\", scores)\n",
    "\n",
    "# report performance\n",
    "print('Accuracy: %.3f (%.3f)' % (mean(scores), std(scores)))"
   ]
  },
  {
   "cell_type": "code",
   "execution_count": 43,
   "metadata": {},
   "outputs": [
    {
     "name": "stdout",
     "output_type": "stream",
     "text": [
      "scores: [0.8        0.9        0.9        0.9        1.         0.7\n",
      " 0.8        0.55555556 0.88888889 0.66666667]\n",
      "Accuracy: 0.811 (0.128)\n"
     ]
    }
   ],
   "source": [
    "#15\n",
    "X = wordvec_num#data\n",
    "y = handannotated_labels#target\n",
    "\n",
    "kf = KFold(n_splits=10, random_state=1, shuffle=True)\n",
    "\n",
    "# create model\n",
    "model = LogisticRegression(class_weight='balanced')\n",
    "\n",
    "# evaluate model\n",
    "scores = cross_val_score(model, X, y, scoring='accuracy', cv=kf, n_jobs=-1)\n",
    "print(\"scores:\", scores)\n",
    "\n",
    "# report performance\n",
    "print('Accuracy: %.3f (%.3f)' % (mean(scores), std(scores)))"
   ]
  },
  {
   "cell_type": "code",
   "execution_count": 44,
   "metadata": {},
   "outputs": [
    {
     "name": "stdout",
     "output_type": "stream",
     "text": [
      "scores: [0.8        0.9        0.9        0.9        1.         0.7\n",
      " 0.8        0.55555556 0.88888889 0.66666667]\n",
      "Accuracy: 0.811 (0.128)\n"
     ]
    }
   ],
   "source": [
    "#16\n",
    "X = wordvec_num_pos#data\n",
    "y = handannotated_labels#target\n",
    "\n",
    "kf = KFold(n_splits=10, random_state=1, shuffle=True)\n",
    "\n",
    "# create model\n",
    "model = LogisticRegression(class_weight='balanced')\n",
    "\n",
    "# evaluate model\n",
    "scores = cross_val_score(model, X, y, scoring='accuracy', cv=kf, n_jobs=-1)\n",
    "print(\"scores:\", scores)\n",
    "\n",
    "# report performance\n",
    "print('Accuracy: %.3f (%.3f)' % (mean(scores), std(scores)))"
   ]
  },
  {
   "cell_type": "code",
   "execution_count": 45,
   "metadata": {},
   "outputs": [
    {
     "name": "stdout",
     "output_type": "stream",
     "text": [
      "scores: [0.9        0.9        0.9        0.9        1.         0.9\n",
      " 0.9        1.         1.         0.66666667]\n",
      "Accuracy: 0.907 (0.092)\n"
     ]
    }
   ],
   "source": [
    "#17 NICE\n",
    "X = docvec_pos#data\n",
    "y = handannotated_labels#target\n",
    "\n",
    "kf = KFold(n_splits=10, random_state=1, shuffle=True)\n",
    "\n",
    "# create model\n",
    "model = LogisticRegression(class_weight='balanced')\n",
    "\n",
    "# evaluate model\n",
    "scores = cross_val_score(model, X, y, scoring='accuracy', cv=kf, n_jobs=-1)\n",
    "print(\"scores:\", scores)\n",
    "\n",
    "# report performance\n",
    "print('Accuracy: %.3f (%.3f)' % (mean(scores), std(scores)))"
   ]
  },
  {
   "cell_type": "code",
   "execution_count": 22,
   "metadata": {},
   "outputs": [
    {
     "name": "stdout",
     "output_type": "stream",
     "text": [
      "scores: [1.         0.8        0.9        0.9        0.9        0.8\n",
      " 0.9        1.         1.         0.55555556]\n",
      "Accuracy: 0.876 (0.128)\n"
     ]
    }
   ],
   "source": [
    "#17 NICE\n",
    "X = docvec_num#data\n",
    "y = handannotated_labels#target\n",
    "\n",
    "kf = KFold(n_splits=10, random_state=1, shuffle=True)\n",
    "\n",
    "# create model\n",
    "model = LogisticRegression(class_weight='balanced')\n",
    "\n",
    "# evaluate model\n",
    "scores = cross_val_score(model, X, y, scoring='accuracy', cv=kf, n_jobs=-1)\n",
    "print(\"scores:\", scores)\n",
    "\n",
    "# report performance\n",
    "print('Accuracy: %.3f (%.3f)' % (mean(scores), std(scores)))"
   ]
  },
  {
   "cell_type": "code",
   "execution_count": 47,
   "metadata": {},
   "outputs": [
    {
     "name": "stdout",
     "output_type": "stream",
     "text": [
      "scores: [1.         0.8        0.9        0.9        0.9        0.9\n",
      " 0.9        1.         1.         0.55555556]\n",
      "Accuracy: 0.886 (0.125)\n"
     ]
    }
   ],
   "source": [
    "#19\n",
    "X = docvec_num_pos#data\n",
    "y = handannotated_labels#target\n",
    "\n",
    "kf = KFold(n_splits=10, random_state=1, shuffle=True)\n",
    "\n",
    "# create model\n",
    "model = LogisticRegression(class_weight='balanced')\n",
    "\n",
    "# evaluate model\n",
    "scores = cross_val_score(model, X, y, scoring='accuracy', cv=kf, n_jobs=-1)\n",
    "print(\"scores:\", scores)\n",
    "\n",
    "# report performance\n",
    "print('Accuracy: %.3f (%.3f)' % (mean(scores), std(scores)))"
   ]
  },
  {
   "cell_type": "code",
   "execution_count": 48,
   "metadata": {},
   "outputs": [
    {
     "name": "stdout",
     "output_type": "stream",
     "text": [
      "scores: [0.9        0.5        0.9        0.9        0.9        0.7\n",
      " 0.6        0.88888889 0.88888889 0.77777778]\n",
      "Accuracy: 0.796 (0.140)\n"
     ]
    }
   ],
   "source": [
    "#20\n",
    "X = pos_num#data\n",
    "y = handannotated_labels#target\n",
    "\n",
    "kf = KFold(n_splits=10, random_state=1, shuffle=True)\n",
    "\n",
    "# create model\n",
    "model = LogisticRegression(class_weight='balanced')\n",
    "\n",
    "# evaluate model\n",
    "scores = cross_val_score(model, X, y, scoring='accuracy', cv=kf, n_jobs=-1)\n",
    "print(\"scores:\", scores)\n",
    "\n",
    "# report performance\n",
    "print('Accuracy: %.3f (%.3f)' % (mean(scores), std(scores)))"
   ]
  },
  {
   "cell_type": "code",
   "execution_count": 50,
   "metadata": {},
   "outputs": [
    {
     "name": "stdout",
     "output_type": "stream",
     "text": [
      "scores: [0.8        0.9        0.9        0.9        1.         0.7\n",
      " 0.8        0.55555556 0.88888889 0.66666667]\n",
      "Accuracy: 0.811 (0.128)\n"
     ]
    }
   ],
   "source": [
    "#21\n",
    "X = all_features#data\n",
    "y = handannotated_labels#target\n",
    "\n",
    "kf = KFold(n_splits=10, random_state=1, shuffle=True)\n",
    "\n",
    "# create model\n",
    "model = LogisticRegression(class_weight='balanced')\n",
    "\n",
    "# evaluate model\n",
    "scores = cross_val_score(model, X, y, scoring='accuracy', cv=kf, n_jobs=-1)\n",
    "print(\"scores:\", scores)\n",
    "\n",
    "# report performance\n",
    "print('Accuracy: %.3f (%.3f)' % (mean(scores), std(scores)))"
   ]
  },
  {
   "cell_type": "code",
   "execution_count": 51,
   "metadata": {},
   "outputs": [
    {
     "name": "stdout",
     "output_type": "stream",
     "text": [
      "scores: [0.6        0.8        0.9        0.8        1.         0.7\n",
      " 0.8        1.         1.         0.66666667]\n",
      "Accuracy: 0.827 (0.138)\n"
     ]
    }
   ],
   "source": [
    "#22\n",
    "X = emot_uni#data\n",
    "y = handannotated_labels#target\n",
    "\n",
    "kf = KFold(n_splits=10, random_state=1, shuffle=True)\n",
    "\n",
    "# create model\n",
    "model = LogisticRegression(class_weight='balanced')\n",
    "\n",
    "# evaluate model\n",
    "scores = cross_val_score(model, X, y, scoring='accuracy', cv=kf, n_jobs=-1)\n",
    "print(\"scores:\", scores)\n",
    "\n",
    "# report performance\n",
    "print('Accuracy: %.3f (%.3f)' % (mean(scores), std(scores)))"
   ]
  },
  {
   "cell_type": "code",
   "execution_count": 52,
   "metadata": {},
   "outputs": [
    {
     "name": "stdout",
     "output_type": "stream",
     "text": [
      "scores: [0.6        0.7        0.8        0.9        1.         0.6\n",
      " 0.9        0.77777778 0.88888889 0.66666667]\n",
      "Accuracy: 0.783 (0.132)\n"
     ]
    }
   ],
   "source": [
    "#23\n",
    "X = emot_bi#data\n",
    "y = handannotated_labels#target\n",
    "\n",
    "kf = KFold(n_splits=10, random_state=1, shuffle=True)\n",
    "\n",
    "# create model\n",
    "model = LogisticRegression(class_weight='balanced')\n",
    "\n",
    "# evaluate model\n",
    "scores = cross_val_score(model, X, y, scoring='accuracy', cv=kf, n_jobs=-1)\n",
    "print(\"scores:\", scores)\n",
    "\n",
    "# report performance\n",
    "print('Accuracy: %.3f (%.3f)' % (mean(scores), std(scores)))"
   ]
  },
  {
   "cell_type": "code",
   "execution_count": 53,
   "metadata": {},
   "outputs": [
    {
     "name": "stdout",
     "output_type": "stream",
     "text": [
      "scores: [0.7        0.9        0.8        0.9        1.         0.6\n",
      " 0.9        0.88888889 0.77777778 0.77777778]\n",
      "Accuracy: 0.824 (0.111)\n"
     ]
    }
   ],
   "source": [
    "#24\n",
    "X = emot_tfidf#data\n",
    "y = handannotated_labels#target\n",
    "\n",
    "kf = KFold(n_splits=10, random_state=1, shuffle=True)\n",
    "\n",
    "# create model\n",
    "model = LogisticRegression(class_weight='balanced')\n",
    "\n",
    "# evaluate model\n",
    "scores = cross_val_score(model, X, y, scoring='accuracy', cv=kf, n_jobs=-1)\n",
    "print(\"scores:\", scores)\n",
    "\n",
    "# report performance\n",
    "print('Accuracy: %.3f (%.3f)' % (mean(scores), std(scores)))"
   ]
  },
  {
   "cell_type": "code",
   "execution_count": 54,
   "metadata": {},
   "outputs": [
    {
     "name": "stdout",
     "output_type": "stream",
     "text": [
      "scores: [0.8        0.9        0.9        0.9        1.         0.7\n",
      " 0.8        0.55555556 0.88888889 0.66666667]\n",
      "Accuracy: 0.811 (0.128)\n"
     ]
    }
   ],
   "source": [
    "#25\n",
    "X = emot_wordvec#data\n",
    "y = handannotated_labels#target\n",
    "\n",
    "kf = KFold(n_splits=10, random_state=1, shuffle=True)\n",
    "\n",
    "# create model\n",
    "model = LogisticRegression(class_weight='balanced')\n",
    "\n",
    "# evaluate model\n",
    "scores = cross_val_score(model, X, y, scoring='accuracy', cv=kf, n_jobs=-1)\n",
    "print(\"scores:\", scores)\n",
    "\n",
    "# report performance\n",
    "print('Accuracy: %.3f (%.3f)' % (mean(scores), std(scores)))"
   ]
  },
  {
   "cell_type": "code",
   "execution_count": 55,
   "metadata": {},
   "outputs": [
    {
     "name": "stdout",
     "output_type": "stream",
     "text": [
      "scores: [0.9        0.9        0.9        0.9        1.         0.8\n",
      " 0.9        1.         1.         0.55555556]\n",
      "Accuracy: 0.886 (0.125)\n"
     ]
    }
   ],
   "source": [
    "#26\n",
    "X = emot_docvec#data\n",
    "y = handannotated_labels#target\n",
    "\n",
    "kf = KFold(n_splits=10, random_state=1, shuffle=True)\n",
    "\n",
    "# create model\n",
    "model = LogisticRegression(class_weight='balanced')\n",
    "\n",
    "# evaluate model\n",
    "scores = cross_val_score(model, X, y, scoring='accuracy', cv=kf, n_jobs=-1)\n",
    "print(\"scores:\", scores)\n",
    "\n",
    "# report performance\n",
    "print('Accuracy: %.3f (%.3f)' % (mean(scores), std(scores)))"
   ]
  },
  {
   "cell_type": "code",
   "execution_count": 56,
   "metadata": {},
   "outputs": [
    {
     "name": "stdout",
     "output_type": "stream",
     "text": [
      "scores: [0.7        0.7        0.8        0.9        1.         0.6\n",
      " 0.9        0.77777778 0.77777778 0.77777778]\n",
      "Accuracy: 0.793 (0.110)\n"
     ]
    }
   ],
   "source": [
    "#26\n",
    "X = contains_emotional_emojis#data\n",
    "y = handannotated_labels#target\n",
    "\n",
    "kf = KFold(n_splits=10, random_state=1, shuffle=True)\n",
    "\n",
    "# create model\n",
    "model = LogisticRegression(class_weight='balanced')\n",
    "\n",
    "# evaluate model\n",
    "scores = cross_val_score(model, X, y, scoring='accuracy', cv=kf, n_jobs=-1)\n",
    "print(\"scores:\", scores)\n",
    "\n",
    "# report performance\n",
    "print('Accuracy: %.3f (%.3f)' % (mean(scores), std(scores)))"
   ]
  },
  {
   "cell_type": "code",
   "execution_count": 57,
   "metadata": {},
   "outputs": [
    {
     "name": "stdout",
     "output_type": "stream",
     "text": [
      "scores: [0.7        0.7        0.8        0.9        1.         0.7\n",
      " 1.         0.88888889 0.88888889 0.77777778]\n",
      "Accuracy: 0.836 (0.111)\n"
     ]
    }
   ],
   "source": [
    "#26\n",
    "X = hash_#data\n",
    "y = handannotated_labels#target\n",
    "\n",
    "kf = KFold(n_splits=10, random_state=1, shuffle=True)\n",
    "\n",
    "# create model\n",
    "model = LogisticRegression(class_weight='balanced')\n",
    "\n",
    "# evaluate model\n",
    "scores = cross_val_score(model, X, y, scoring='accuracy', cv=kf, n_jobs=-1)\n",
    "print(\"scores:\", scores)\n",
    "\n",
    "# report performance\n",
    "print('Accuracy: %.3f (%.3f)' % (mean(scores), std(scores)))"
   ]
  },
  {
   "cell_type": "code",
   "execution_count": 58,
   "metadata": {},
   "outputs": [
    {
     "name": "stdout",
     "output_type": "stream",
     "text": [
      "scores: [0.6        0.8        0.9        0.8        1.         0.7\n",
      " 1.         1.         1.         0.77777778]\n",
      "Accuracy: 0.858 (0.137)\n"
     ]
    }
   ],
   "source": [
    "#26\n",
    "X = hash_uni#data\n",
    "y = handannotated_labels#target\n",
    "\n",
    "kf = KFold(n_splits=10, random_state=1, shuffle=True)\n",
    "\n",
    "# create model\n",
    "model = LogisticRegression(class_weight='balanced')\n",
    "\n",
    "# evaluate model\n",
    "scores = cross_val_score(model, X, y, scoring='accuracy', cv=kf, n_jobs=-1)\n",
    "print(\"scores:\", scores)\n",
    "\n",
    "# report performance\n",
    "print('Accuracy: %.3f (%.3f)' % (mean(scores), std(scores)))"
   ]
  },
  {
   "cell_type": "code",
   "execution_count": 59,
   "metadata": {},
   "outputs": [
    {
     "name": "stdout",
     "output_type": "stream",
     "text": [
      "scores: [0.6        0.7        0.8        0.9        1.         0.6\n",
      " 0.9        0.77777778 0.88888889 0.66666667]\n",
      "Accuracy: 0.783 (0.132)\n"
     ]
    }
   ],
   "source": [
    "#26\n",
    "X = hash_bi#data\n",
    "y = handannotated_labels#target\n",
    "\n",
    "kf = KFold(n_splits=10, random_state=1, shuffle=True)\n",
    "\n",
    "# create model\n",
    "model = LogisticRegression(class_weight='balanced')\n",
    "\n",
    "# evaluate model\n",
    "scores = cross_val_score(model, X, y, scoring='accuracy', cv=kf, n_jobs=-1)\n",
    "print(\"scores:\", scores)\n",
    "\n",
    "# report performance\n",
    "print('Accuracy: %.3f (%.3f)' % (mean(scores), std(scores)))"
   ]
  },
  {
   "cell_type": "code",
   "execution_count": 60,
   "metadata": {},
   "outputs": [
    {
     "name": "stdout",
     "output_type": "stream",
     "text": [
      "scores: [0.7        0.7        0.8        0.9        1.         0.7\n",
      " 1.         1.         0.88888889 0.77777778]\n",
      "Accuracy: 0.847 (0.121)\n"
     ]
    }
   ],
   "source": [
    "#26\n",
    "X = hash_tfidf#data\n",
    "y = handannotated_labels#target\n",
    "\n",
    "kf = KFold(n_splits=10, random_state=1, shuffle=True)\n",
    "\n",
    "# create model\n",
    "model = LogisticRegression(class_weight='balanced')\n",
    "\n",
    "# evaluate model\n",
    "scores = cross_val_score(model, X, y, scoring='accuracy', cv=kf, n_jobs=-1)\n",
    "print(\"scores:\", scores)\n",
    "\n",
    "# report performance\n",
    "print('Accuracy: %.3f (%.3f)' % (mean(scores), std(scores)))"
   ]
  },
  {
   "cell_type": "code",
   "execution_count": 61,
   "metadata": {},
   "outputs": [
    {
     "name": "stdout",
     "output_type": "stream",
     "text": [
      "scores: [0.8        0.9        0.9        0.9        1.         0.7\n",
      " 0.8        0.55555556 0.88888889 0.66666667]\n",
      "Accuracy: 0.811 (0.128)\n"
     ]
    }
   ],
   "source": [
    "#26\n",
    "X = hash_wordvec#data\n",
    "y = handannotated_labels#target\n",
    "\n",
    "kf = KFold(n_splits=10, random_state=1, shuffle=True)\n",
    "\n",
    "# create model\n",
    "model = LogisticRegression(class_weight='balanced')\n",
    "\n",
    "# evaluate model\n",
    "scores = cross_val_score(model, X, y, scoring='accuracy', cv=kf, n_jobs=-1)\n",
    "print(\"scores:\", scores)\n",
    "\n",
    "# report performance\n",
    "print('Accuracy: %.3f (%.3f)' % (mean(scores), std(scores)))"
   ]
  },
  {
   "cell_type": "code",
   "execution_count": 62,
   "metadata": {},
   "outputs": [
    {
     "name": "stdout",
     "output_type": "stream",
     "text": [
      "scores: [0.9        0.9        0.9        0.9        1.         0.8\n",
      " 0.9        1.         1.         0.55555556]\n",
      "Accuracy: 0.886 (0.125)\n"
     ]
    }
   ],
   "source": [
    "#26\n",
    "X = hash_docvec#data\n",
    "y = handannotated_labels#target\n",
    "\n",
    "kf = KFold(n_splits=10, random_state=1, shuffle=True)\n",
    "\n",
    "# create model\n",
    "model = LogisticRegression(class_weight='balanced')\n",
    "\n",
    "# evaluate model\n",
    "scores = cross_val_score(model, X, y, scoring='accuracy', cv=kf, n_jobs=-1)\n",
    "print(\"scores:\", scores)\n",
    "\n",
    "# report performance\n",
    "print('Accuracy: %.3f (%.3f)' % (mean(scores), std(scores)))"
   ]
  },
  {
   "cell_type": "code",
   "execution_count": 63,
   "metadata": {},
   "outputs": [
    {
     "name": "stdout",
     "output_type": "stream",
     "text": [
      "scores: [0.8        0.7        0.8        0.9        1.         0.7\n",
      " 1.         0.88888889 0.77777778 0.88888889]\n",
      "Accuracy: 0.846 (0.103)\n"
     ]
    }
   ],
   "source": [
    "#26\n",
    "X = hash_emot#data\n",
    "y = handannotated_labels#target\n",
    "\n",
    "kf = KFold(n_splits=10, random_state=1, shuffle=True)\n",
    "\n",
    "# create model\n",
    "model = LogisticRegression(class_weight='balanced')\n",
    "\n",
    "# evaluate model\n",
    "scores = cross_val_score(model, X, y, scoring='accuracy', cv=kf, n_jobs=-1)\n",
    "print(\"scores:\", scores)\n",
    "\n",
    "# report performance\n",
    "print('Accuracy: %.3f (%.3f)' % (mean(scores), std(scores)))"
   ]
  },
  {
   "cell_type": "code",
   "execution_count": 64,
   "metadata": {},
   "outputs": [],
   "source": [
    "##############naive bayes##############"
   ]
  },
  {
   "cell_type": "code",
   "execution_count": 24,
   "metadata": {},
   "outputs": [],
   "source": [
    "from sklearn.naive_bayes import GaussianNB"
   ]
  },
  {
   "cell_type": "code",
   "execution_count": 66,
   "metadata": {},
   "outputs": [
    {
     "name": "stdout",
     "output_type": "stream",
     "text": [
      "scores: [0.7        0.6        0.6        0.7        0.8        0.9\n",
      " 0.9        0.44444444 0.44444444 0.66666667]\n",
      "Accuracy: 0.676 (0.154)\n"
     ]
    }
   ],
   "source": [
    "\n",
    "X = unigram_feature_vector#data\n",
    "y = handannotated_labels#target\n",
    "\n",
    "kf = KFold(n_splits=10, random_state=1, shuffle=True)\n",
    "\n",
    "# create model\n",
    "model = GaussianNB()\n",
    "\n",
    "# evaluate model\n",
    "scores = cross_val_score(model, X, y, scoring='accuracy', cv=kf, n_jobs=-1)\n",
    "print(\"scores:\", scores)\n",
    "\n",
    "# report performance\n",
    "print('Accuracy: %.3f (%.3f)' % (mean(scores), std(scores)))"
   ]
  },
  {
   "cell_type": "code",
   "execution_count": 67,
   "metadata": {},
   "outputs": [
    {
     "name": "stdout",
     "output_type": "stream",
     "text": [
      "scores: [0.4        0.4        0.6        0.7        0.4        0.7\n",
      " 0.7        0.33333333 0.66666667 0.88888889]\n",
      "Accuracy: 0.579 (0.175)\n"
     ]
    }
   ],
   "source": [
    "\n",
    "X = bigram_feature_vector#data\n",
    "y = handannotated_labels#target\n",
    "\n",
    "kf = KFold(n_splits=10, random_state=1, shuffle=True)\n",
    "\n",
    "# create model\n",
    "model = GaussianNB()\n",
    "\n",
    "# evaluate model\n",
    "scores = cross_val_score(model, X, y, scoring='accuracy', cv=kf, n_jobs=-1)\n",
    "print(\"scores:\", scores)\n",
    "\n",
    "# report performance\n",
    "print('Accuracy: %.3f (%.3f)' % (mean(scores), std(scores)))"
   ]
  },
  {
   "cell_type": "code",
   "execution_count": 68,
   "metadata": {},
   "outputs": [
    {
     "name": "stdout",
     "output_type": "stream",
     "text": [
      "scores: [0.4        0.4        0.2        0.2        0.1        0.5\n",
      " 0.3        0.22222222 0.11111111 0.55555556]\n",
      "Accuracy: 0.299 (0.151)\n"
     ]
    }
   ],
   "source": [
    "\n",
    "X = trigram_feature_vector#data\n",
    "y = handannotated_labels#target\n",
    "\n",
    "kf = KFold(n_splits=10, random_state=1, shuffle=True)\n",
    "\n",
    "# create model\n",
    "model = GaussianNB()\n",
    "\n",
    "# evaluate model\n",
    "scores = cross_val_score(model, X, y, scoring='accuracy', cv=kf, n_jobs=-1)\n",
    "print(\"scores:\", scores)\n",
    "\n",
    "# report performance\n",
    "print('Accuracy: %.3f (%.3f)' % (mean(scores), std(scores)))"
   ]
  },
  {
   "cell_type": "code",
   "execution_count": 69,
   "metadata": {},
   "outputs": [
    {
     "name": "stdout",
     "output_type": "stream",
     "text": [
      "scores: [0.8        0.6        0.5        0.7        0.8        0.9\n",
      " 0.9        0.44444444 0.44444444 0.66666667]\n",
      "Accuracy: 0.676 (0.166)\n"
     ]
    }
   ],
   "source": [
    "\n",
    "X = tfidf#data\n",
    "y = handannotated_labels#target\n",
    "\n",
    "kf = KFold(n_splits=10, random_state=1, shuffle=True)\n",
    "\n",
    "# create model\n",
    "model = GaussianNB()\n",
    "\n",
    "# evaluate model\n",
    "scores = cross_val_score(model, X, y, scoring='accuracy', cv=kf, n_jobs=-1)\n",
    "print(\"scores:\", scores)\n",
    "\n",
    "# report performance\n",
    "print('Accuracy: %.3f (%.3f)' % (mean(scores), std(scores)))"
   ]
  },
  {
   "cell_type": "code",
   "execution_count": 70,
   "metadata": {},
   "outputs": [
    {
     "name": "stdout",
     "output_type": "stream",
     "text": [
      "scores: [0.5        0.6        0.9        0.8        0.9        0.6\n",
      " 0.8        0.66666667 0.88888889 0.77777778]\n",
      "Accuracy: 0.743 (0.136)\n"
     ]
    }
   ],
   "source": [
    "X = post_sent_punct#data\n",
    "y = handannotated_labels#target\n",
    "\n",
    "kf = KFold(n_splits=10, random_state=1, shuffle=True)\n",
    "\n",
    "# create model\n",
    "model = GaussianNB()\n",
    "\n",
    "# evaluate model\n",
    "scores = cross_val_score(model, X, y, scoring='accuracy', cv=kf, n_jobs=-1)\n",
    "print(\"scores:\", scores)\n",
    "\n",
    "# report performance\n",
    "print('Accuracy: %.3f (%.3f)' % (mean(scores), std(scores)))"
   ]
  },
  {
   "cell_type": "code",
   "execution_count": 71,
   "metadata": {},
   "outputs": [
    {
     "name": "stdout",
     "output_type": "stream",
     "text": [
      "scores: [0.8        0.9        0.8        0.9        0.9        0.7\n",
      " 0.9        0.88888889 1.         0.77777778]\n",
      "Accuracy: 0.857 (0.081)\n"
     ]
    }
   ],
   "source": [
    "#nice\n",
    "X = pos#data\n",
    "y = handannotated_labels#target\n",
    "\n",
    "kf = KFold(n_splits=10, random_state=1, shuffle=True)\n",
    "\n",
    "# create model\n",
    "model = GaussianNB()\n",
    "\n",
    "# evaluate model\n",
    "scores = cross_val_score(model, X, y, scoring='accuracy', cv=kf, n_jobs=-1)\n",
    "print(\"scores:\", scores)\n",
    "\n",
    "# report performance\n",
    "print('Accuracy: %.3f (%.3f)' % (mean(scores), std(scores)))"
   ]
  },
  {
   "cell_type": "code",
   "execution_count": 73,
   "metadata": {},
   "outputs": [
    {
     "name": "stdout",
     "output_type": "stream",
     "text": [
      "scores: [0.6        0.2        0.8        0.8        1.         0.5\n",
      " 0.7        0.77777778 1.         0.66666667]\n",
      "Accuracy: 0.704 (0.225)\n"
     ]
    }
   ],
   "source": [
    "\n",
    "X = nodoc#data\n",
    "y = handannotated_labels#target\n",
    "\n",
    "kf = KFold(n_splits=10, random_state=1, shuffle=True)\n",
    "\n",
    "# create model\n",
    "model = GaussianNB()\n",
    "\n",
    "# evaluate model\n",
    "scores = cross_val_score(model, X, y, scoring='accuracy', cv=kf, n_jobs=-1)\n",
    "print(\"scores:\", scores)\n",
    "\n",
    "# report performance\n",
    "print('Accuracy: %.3f (%.3f)' % (mean(scores), std(scores)))"
   ]
  },
  {
   "cell_type": "code",
   "execution_count": 74,
   "metadata": {},
   "outputs": [
    {
     "name": "stdout",
     "output_type": "stream",
     "text": [
      "scores: [0.6        0.9        0.9        0.6        0.8        0.8\n",
      " 0.7        0.88888889 0.77777778 0.66666667]\n",
      "Accuracy: 0.763 (0.111)\n"
     ]
    }
   ],
   "source": [
    "\n",
    "X = word_vector_feature#data\n",
    "y = handannotated_labels#target\n",
    "\n",
    "kf = KFold(n_splits=10, random_state=1, shuffle=True)\n",
    "\n",
    "# create model\n",
    "model = GaussianNB()\n",
    "\n",
    "# evaluate model\n",
    "scores = cross_val_score(model, X, y, scoring='accuracy', cv=kf, n_jobs=-1)\n",
    "print(\"scores:\", scores)\n",
    "\n",
    "# report performance\n",
    "print('Accuracy: %.3f (%.3f)' % (mean(scores), std(scores)))"
   ]
  },
  {
   "cell_type": "code",
   "execution_count": 75,
   "metadata": {},
   "outputs": [],
   "source": [
    "##combinations##"
   ]
  },
  {
   "cell_type": "code",
   "execution_count": 76,
   "metadata": {},
   "outputs": [
    {
     "name": "stdout",
     "output_type": "stream",
     "text": [
      "scores: [0.7        0.5        0.7        0.7        0.8        0.9\n",
      " 1.         0.55555556 0.66666667 0.77777778]\n",
      "Accuracy: 0.730 (0.141)\n"
     ]
    }
   ],
   "source": [
    "#2\n",
    "X = unigram_bi_feature_vector#data\n",
    "y = handannotated_labels#target\n",
    "\n",
    "kf = KFold(n_splits=10, random_state=1, shuffle=True)\n",
    "\n",
    "model = GaussianNB()\n",
    "\n",
    "# evaluate model\n",
    "scores = cross_val_score(model, X, y, scoring='accuracy', cv=kf, n_jobs=-1)\n",
    "print(\"scores:\", scores)\n",
    "\n",
    "# report performance\n",
    "print('Accuracy: %.3f (%.3f)' % (mean(scores), std(scores)))"
   ]
  },
  {
   "cell_type": "code",
   "execution_count": 77,
   "metadata": {},
   "outputs": [
    {
     "name": "stdout",
     "output_type": "stream",
     "text": [
      "scores: [0.7        0.5        0.7        0.7        0.8        0.9\n",
      " 1.         0.55555556 0.66666667 0.77777778]\n",
      "Accuracy: 0.730 (0.141)\n"
     ]
    }
   ],
   "source": [
    "#3\n",
    "X = uni_bi_tri_feat_vec#data\n",
    "y = handannotated_labels#target\n",
    "\n",
    "kf = KFold(n_splits=10, random_state=1, shuffle=True)\n",
    "\n",
    "# create model\n",
    "model = GaussianNB()\n",
    "\n",
    "# evaluate model\n",
    "scores = cross_val_score(model, X, y, scoring='accuracy', cv=kf, n_jobs=-1)\n",
    "print(\"scores:\", scores)\n",
    "\n",
    "# report performance\n",
    "print('Accuracy: %.3f (%.3f)' % (mean(scores), std(scores)))"
   ]
  },
  {
   "cell_type": "code",
   "execution_count": 78,
   "metadata": {},
   "outputs": [
    {
     "name": "stdout",
     "output_type": "stream",
     "text": [
      "scores: [0.5        0.6        0.5        0.7        0.8        0.9\n",
      " 1.         0.55555556 0.66666667 0.77777778]\n",
      "Accuracy: 0.700 (0.161)\n"
     ]
    }
   ],
   "source": [
    "#4\n",
    "X = tfidf_bigram#data\n",
    "y = handannotated_labels#target\n",
    "\n",
    "kf = KFold(n_splits=10, random_state=1, shuffle=True)\n",
    "\n",
    "# create model\n",
    "model = GaussianNB()\n",
    "\n",
    "# evaluate model\n",
    "scores = cross_val_score(model, X, y, scoring='accuracy', cv=kf, n_jobs=-1)\n",
    "print(\"scores:\", scores)\n",
    "\n",
    "# report performance\n",
    "print('Accuracy: %.3f (%.3f)' % (mean(scores), std(scores)))"
   ]
  },
  {
   "cell_type": "code",
   "execution_count": 79,
   "metadata": {},
   "outputs": [
    {
     "name": "stdout",
     "output_type": "stream",
     "text": [
      "scores: [0.7        0.6        0.6        0.7        0.8        0.9\n",
      " 0.9        0.44444444 0.44444444 0.66666667]\n",
      "Accuracy: 0.676 (0.154)\n"
     ]
    }
   ],
   "source": [
    "#5\n",
    "X = uni_pos_new#data\n",
    "y = handannotated_labels#target\n",
    "\n",
    "kf = KFold(n_splits=10, random_state=1, shuffle=True)\n",
    "\n",
    "# create model\n",
    "model = GaussianNB()\n",
    "\n",
    "# evaluate model\n",
    "scores = cross_val_score(model, X, y, scoring='accuracy', cv=kf, n_jobs=-1)\n",
    "print(\"scores:\", scores)\n",
    "\n",
    "# report performance\n",
    "print('Accuracy: %.3f (%.3f)' % (mean(scores), std(scores)))"
   ]
  },
  {
   "cell_type": "code",
   "execution_count": 80,
   "metadata": {},
   "outputs": [
    {
     "name": "stdout",
     "output_type": "stream",
     "text": [
      "scores: [0.7        0.6        0.6        0.7        0.8        0.9\n",
      " 0.9        0.44444444 0.44444444 0.66666667]\n",
      "Accuracy: 0.676 (0.154)\n"
     ]
    }
   ],
   "source": [
    "#6\n",
    "X = uni_num#data\n",
    "y = handannotated_labels#target\n",
    "\n",
    "kf = KFold(n_splits=10, random_state=1, shuffle=True)\n",
    "\n",
    "# create model\n",
    "model = GaussianNB()\n",
    "\n",
    "# evaluate model\n",
    "scores = cross_val_score(model, X, y, scoring='accuracy', cv=kf, n_jobs=-1)\n",
    "print(\"scores:\", scores)\n",
    "\n",
    "# report performance\n",
    "print('Accuracy: %.3f (%.3f)' % (mean(scores), std(scores)))"
   ]
  },
  {
   "cell_type": "code",
   "execution_count": 81,
   "metadata": {},
   "outputs": [
    {
     "name": "stdout",
     "output_type": "stream",
     "text": [
      "scores: [0.7        0.6        0.6        0.7        0.8        0.9\n",
      " 0.9        0.44444444 0.44444444 0.66666667]\n",
      "Accuracy: 0.676 (0.154)\n"
     ]
    }
   ],
   "source": [
    "#7\n",
    "X = uni_num_pos#data\n",
    "y = handannotated_labels#target\n",
    "\n",
    "kf = KFold(n_splits=10, random_state=1, shuffle=True)\n",
    "\n",
    "# create model\n",
    "model = GaussianNB()\n",
    "\n",
    "# evaluate model\n",
    "scores = cross_val_score(model, X, y, scoring='accuracy', cv=kf, n_jobs=-1)\n",
    "print(\"scores:\", scores)\n",
    "\n",
    "# report performance\n",
    "print('Accuracy: %.3f (%.3f)' % (mean(scores), std(scores)))"
   ]
  },
  {
   "cell_type": "code",
   "execution_count": 82,
   "metadata": {},
   "outputs": [
    {
     "name": "stdout",
     "output_type": "stream",
     "text": [
      "scores: [0.4        0.4        0.6        0.7        0.4        0.7\n",
      " 0.7        0.33333333 0.66666667 0.88888889]\n",
      "Accuracy: 0.579 (0.175)\n"
     ]
    }
   ],
   "source": [
    "#8\n",
    "X = bi_pos_new#data\n",
    "y = handannotated_labels#target\n",
    "\n",
    "kf = KFold(n_splits=10, random_state=1, shuffle=True)\n",
    "\n",
    "# create model\n",
    "model = GaussianNB()\n",
    "\n",
    "# evaluate model\n",
    "scores = cross_val_score(model, X, y, scoring='accuracy', cv=kf, n_jobs=-1)\n",
    "print(\"scores:\", scores)\n",
    "\n",
    "# report performance\n",
    "print('Accuracy: %.3f (%.3f)' % (mean(scores), std(scores)))"
   ]
  },
  {
   "cell_type": "code",
   "execution_count": 83,
   "metadata": {},
   "outputs": [
    {
     "name": "stdout",
     "output_type": "stream",
     "text": [
      "scores: [0.4        0.4        0.6        0.7        0.4        0.7\n",
      " 0.7        0.33333333 0.66666667 0.88888889]\n",
      "Accuracy: 0.579 (0.175)\n"
     ]
    }
   ],
   "source": [
    "#9\n",
    "X = bi_num#data\n",
    "y = handannotated_labels#target\n",
    "\n",
    "kf = KFold(n_splits=10, random_state=1, shuffle=True)\n",
    "\n",
    "# create model\n",
    "model = GaussianNB()\n",
    "\n",
    "# evaluate model\n",
    "scores = cross_val_score(model, X, y, scoring='accuracy', cv=kf, n_jobs=-1)\n",
    "print(\"scores:\", scores)\n",
    "\n",
    "# report performance\n",
    "print('Accuracy: %.3f (%.3f)' % (mean(scores), std(scores)))"
   ]
  },
  {
   "cell_type": "code",
   "execution_count": 84,
   "metadata": {},
   "outputs": [
    {
     "name": "stdout",
     "output_type": "stream",
     "text": [
      "scores: [0.4        0.4        0.6        0.7        0.4        0.7\n",
      " 0.7        0.33333333 0.66666667 0.88888889]\n",
      "Accuracy: 0.579 (0.175)\n"
     ]
    }
   ],
   "source": [
    "#10\n",
    "X = bi_num_pos#data\n",
    "y = handannotated_labels#target\n",
    "\n",
    "kf = KFold(n_splits=10, random_state=1, shuffle=True)\n",
    "\n",
    "# create model\n",
    "model = GaussianNB()\n",
    "\n",
    "# evaluate model\n",
    "scores = cross_val_score(model, X, y, scoring='accuracy', cv=kf, n_jobs=-1)\n",
    "print(\"scores:\", scores)\n",
    "\n",
    "# report performance\n",
    "print('Accuracy: %.3f (%.3f)' % (mean(scores), std(scores)))"
   ]
  },
  {
   "cell_type": "code",
   "execution_count": 85,
   "metadata": {},
   "outputs": [
    {
     "name": "stdout",
     "output_type": "stream",
     "text": [
      "scores: [0.8        0.6        0.5        0.7        0.8        0.9\n",
      " 0.9        0.44444444 0.44444444 0.66666667]\n",
      "Accuracy: 0.676 (0.166)\n"
     ]
    }
   ],
   "source": [
    "#11\n",
    "X = tfidf_pos_new#data\n",
    "y = handannotated_labels#target\n",
    "\n",
    "kf = KFold(n_splits=10, random_state=1, shuffle=True)\n",
    "\n",
    "# create model\n",
    "model = GaussianNB()\n",
    "\n",
    "# evaluate model\n",
    "scores = cross_val_score(model, X, y, scoring='accuracy', cv=kf, n_jobs=-1)\n",
    "print(\"scores:\", scores)\n",
    "\n",
    "# report performance\n",
    "print('Accuracy: %.3f (%.3f)' % (mean(scores), std(scores)))"
   ]
  },
  {
   "cell_type": "code",
   "execution_count": 86,
   "metadata": {},
   "outputs": [
    {
     "name": "stdout",
     "output_type": "stream",
     "text": [
      "scores: [0.8        0.6        0.5        0.7        0.8        0.9\n",
      " 0.9        0.44444444 0.44444444 0.66666667]\n",
      "Accuracy: 0.676 (0.166)\n"
     ]
    }
   ],
   "source": [
    "#12\n",
    "X = tfidf_num#data\n",
    "y = handannotated_labels#target\n",
    "\n",
    "kf = KFold(n_splits=10, random_state=1, shuffle=True)\n",
    "\n",
    "# create model\n",
    "model = GaussianNB()\n",
    "\n",
    "# evaluate model\n",
    "scores = cross_val_score(model, X, y, scoring='accuracy', cv=kf, n_jobs=-1)\n",
    "print(\"scores:\", scores)\n",
    "\n",
    "# report performance\n",
    "print('Accuracy: %.3f (%.3f)' % (mean(scores), std(scores)))"
   ]
  },
  {
   "cell_type": "code",
   "execution_count": 87,
   "metadata": {},
   "outputs": [
    {
     "name": "stdout",
     "output_type": "stream",
     "text": [
      "scores: [0.8        0.6        0.5        0.7        0.8        0.9\n",
      " 0.9        0.44444444 0.44444444 0.66666667]\n",
      "Accuracy: 0.676 (0.166)\n"
     ]
    }
   ],
   "source": [
    "#13\n",
    "X = tfidf_num_pos#data\n",
    "y = handannotated_labels#target\n",
    "\n",
    "kf = KFold(n_splits=10, random_state=1, shuffle=True)\n",
    "\n",
    "# create model\n",
    "model = GaussianNB()\n",
    "\n",
    "# evaluate model\n",
    "scores = cross_val_score(model, X, y, scoring='accuracy', cv=kf, n_jobs=-1)\n",
    "print(\"scores:\", scores)\n",
    "\n",
    "# report performance\n",
    "print('Accuracy: %.3f (%.3f)' % (mean(scores), std(scores)))"
   ]
  },
  {
   "cell_type": "code",
   "execution_count": 89,
   "metadata": {},
   "outputs": [
    {
     "name": "stdout",
     "output_type": "stream",
     "text": [
      "scores: [0.6        0.2        0.8        0.8        1.         0.5\n",
      " 0.7        0.77777778 1.         0.66666667]\n",
      "Accuracy: 0.704 (0.225)\n"
     ]
    }
   ],
   "source": [
    "#14 \n",
    "X = wordvec_pos#data\n",
    "y = handannotated_labels#target\n",
    "\n",
    "kf = KFold(n_splits=10, random_state=1, shuffle=True)\n",
    "\n",
    "# create model\n",
    "model = GaussianNB()\n",
    "\n",
    "# evaluate model\n",
    "scores = cross_val_score(model, X, y, scoring='accuracy', cv=kf, n_jobs=-1)\n",
    "print(\"scores:\", scores)\n",
    "\n",
    "# report performance\n",
    "print('Accuracy: %.3f (%.3f)' % (mean(scores), std(scores)))"
   ]
  },
  {
   "cell_type": "code",
   "execution_count": 90,
   "metadata": {},
   "outputs": [
    {
     "name": "stdout",
     "output_type": "stream",
     "text": [
      "scores: [0.6        0.2        0.8        0.8        1.         0.5\n",
      " 0.7        0.77777778 1.         0.66666667]\n",
      "Accuracy: 0.704 (0.225)\n"
     ]
    }
   ],
   "source": [
    "#15 \n",
    "X = wordvec_num#data\n",
    "y = handannotated_labels#target\n",
    "\n",
    "kf = KFold(n_splits=10, random_state=1, shuffle=True)\n",
    "\n",
    "# create model\n",
    "model = GaussianNB()\n",
    "\n",
    "# evaluate model\n",
    "scores = cross_val_score(model, X, y, scoring='accuracy', cv=kf, n_jobs=-1)\n",
    "print(\"scores:\", scores)\n",
    "\n",
    "# report performance\n",
    "print('Accuracy: %.3f (%.3f)' % (mean(scores), std(scores)))"
   ]
  },
  {
   "cell_type": "code",
   "execution_count": 91,
   "metadata": {},
   "outputs": [
    {
     "name": "stdout",
     "output_type": "stream",
     "text": [
      "scores: [0.6        0.2        0.8        0.8        1.         0.5\n",
      " 0.7        0.77777778 1.         0.66666667]\n",
      "Accuracy: 0.704 (0.225)\n"
     ]
    }
   ],
   "source": [
    "#16\n",
    "X = wordvec_num_pos#data\n",
    "y = handannotated_labels#target\n",
    "\n",
    "kf = KFold(n_splits=10, random_state=1, shuffle=True)\n",
    "\n",
    "# create model\n",
    "model = GaussianNB()\n",
    "# evaluate model\n",
    "scores = cross_val_score(model, X, y, scoring='accuracy', cv=kf, n_jobs=-1)\n",
    "print(\"scores:\", scores)\n",
    "\n",
    "# report performance\n",
    "print('Accuracy: %.3f (%.3f)' % (mean(scores), std(scores)))"
   ]
  },
  {
   "cell_type": "code",
   "execution_count": 92,
   "metadata": {},
   "outputs": [
    {
     "name": "stdout",
     "output_type": "stream",
     "text": [
      "scores: [0.6        0.9        0.9        0.7        0.8        0.8\n",
      " 0.7        0.88888889 0.88888889 0.66666667]\n",
      "Accuracy: 0.784 (0.105)\n"
     ]
    }
   ],
   "source": [
    "#17\n",
    "X = docvec_pos#data\n",
    "y = handannotated_labels#target\n",
    "\n",
    "kf = KFold(n_splits=10, random_state=1, shuffle=True)\n",
    "\n",
    "# create model\n",
    "model = GaussianNB()\n",
    "\n",
    "# evaluate model\n",
    "scores = cross_val_score(model, X, y, scoring='accuracy', cv=kf, n_jobs=-1)\n",
    "print(\"scores:\", scores)\n",
    "\n",
    "# report performance\n",
    "print('Accuracy: %.3f (%.3f)' % (mean(scores), std(scores)))"
   ]
  },
  {
   "cell_type": "code",
   "execution_count": 25,
   "metadata": {},
   "outputs": [
    {
     "name": "stdout",
     "output_type": "stream",
     "text": [
      "scores: [0.6        0.9        0.9        0.7        0.8        0.8\n",
      " 0.7        0.88888889 0.77777778 0.66666667]\n",
      "Accuracy: 0.773 (0.100)\n"
     ]
    }
   ],
   "source": [
    "#18\n",
    "X = docvec_num#data\n",
    "y = handannotated_labels#target\n",
    "\n",
    "kf = KFold(n_splits=10, random_state=1, shuffle=True)\n",
    "\n",
    "# create model\n",
    "model = GaussianNB()\n",
    "\n",
    "# evaluate model\n",
    "scores = cross_val_score(model, X, y, scoring='accuracy', cv=kf, n_jobs=-1)\n",
    "print(\"scores:\", scores)\n",
    "\n",
    "# report performance\n",
    "print('Accuracy: %.3f (%.3f)' % (mean(scores), std(scores)))"
   ]
  },
  {
   "cell_type": "code",
   "execution_count": 94,
   "metadata": {},
   "outputs": [
    {
     "name": "stdout",
     "output_type": "stream",
     "text": [
      "scores: [0.6        0.9        0.9        0.7        0.8        0.8\n",
      " 0.7        0.88888889 0.88888889 0.66666667]\n",
      "Accuracy: 0.784 (0.105)\n"
     ]
    }
   ],
   "source": [
    "#19\n",
    "X = docvec_num_pos#data\n",
    "y = handannotated_labels#target\n",
    "\n",
    "kf = KFold(n_splits=10, random_state=1, shuffle=True)\n",
    "\n",
    "# create model\n",
    "model = GaussianNB()\n",
    "\n",
    "# evaluate model\n",
    "scores = cross_val_score(model, X, y, scoring='accuracy', cv=kf, n_jobs=-1)\n",
    "print(\"scores:\", scores)\n",
    "\n",
    "# report performance\n",
    "print('Accuracy: %.3f (%.3f)' % (mean(scores), std(scores)))"
   ]
  },
  {
   "cell_type": "code",
   "execution_count": 95,
   "metadata": {},
   "outputs": [
    {
     "name": "stdout",
     "output_type": "stream",
     "text": [
      "scores: [0.8        0.7        0.9        0.8        0.9        0.6\n",
      " 0.8        0.88888889 1.         0.77777778]\n",
      "Accuracy: 0.817 (0.108)\n"
     ]
    }
   ],
   "source": [
    "#20\n",
    "X = pos_num#data\n",
    "y = handannotated_labels#target\n",
    "\n",
    "kf = KFold(n_splits=10, random_state=1, shuffle=True)\n",
    "\n",
    "# create model\n",
    "model = GaussianNB()\n",
    "\n",
    "# evaluate model\n",
    "scores = cross_val_score(model, X, y, scoring='accuracy', cv=kf, n_jobs=-1)\n",
    "print(\"scores:\", scores)\n",
    "\n",
    "# report performance\n",
    "print('Accuracy: %.3f (%.3f)' % (mean(scores), std(scores)))"
   ]
  },
  {
   "cell_type": "code",
   "execution_count": 96,
   "metadata": {},
   "outputs": [
    {
     "name": "stdout",
     "output_type": "stream",
     "text": [
      "scores: [0.8        0.5        0.6        0.8        0.9        0.9\n",
      " 1.         0.44444444 0.66666667 0.77777778]\n",
      "Accuracy: 0.739 (0.172)\n"
     ]
    }
   ],
   "source": [
    "#21\n",
    "X = all_features#data\n",
    "y = handannotated_labels#target\n",
    "\n",
    "kf = KFold(n_splits=10, random_state=1, shuffle=True)\n",
    "\n",
    "# create model\n",
    "model = GaussianNB()\n",
    "\n",
    "# evaluate model\n",
    "scores = cross_val_score(model, X, y, scoring='accuracy', cv=kf, n_jobs=-1)\n",
    "print(\"scores:\", scores)\n",
    "\n",
    "# report performance\n",
    "print('Accuracy: %.3f (%.3f)' % (mean(scores), std(scores)))"
   ]
  },
  {
   "cell_type": "code",
   "execution_count": 97,
   "metadata": {},
   "outputs": [
    {
     "name": "stdout",
     "output_type": "stream",
     "text": [
      "scores: [0.7        0.6        0.6        0.7        0.8        0.9\n",
      " 0.9        0.44444444 0.44444444 0.66666667]\n",
      "Accuracy: 0.676 (0.154)\n"
     ]
    }
   ],
   "source": [
    "#21\n",
    "X = emot_uni#data\n",
    "y = handannotated_labels#target\n",
    "\n",
    "kf = KFold(n_splits=10, random_state=1, shuffle=True)\n",
    "\n",
    "# create model\n",
    "model = GaussianNB()\n",
    "\n",
    "# evaluate model\n",
    "scores = cross_val_score(model, X, y, scoring='accuracy', cv=kf, n_jobs=-1)\n",
    "print(\"scores:\", scores)\n",
    "\n",
    "# report performance\n",
    "print('Accuracy: %.3f (%.3f)' % (mean(scores), std(scores)))"
   ]
  },
  {
   "cell_type": "code",
   "execution_count": 98,
   "metadata": {},
   "outputs": [
    {
     "name": "stdout",
     "output_type": "stream",
     "text": [
      "scores: [0.4        0.4        0.6        0.7        0.4        0.7\n",
      " 0.7        0.33333333 0.66666667 0.88888889]\n",
      "Accuracy: 0.579 (0.175)\n"
     ]
    }
   ],
   "source": [
    "#21\n",
    "X = emot_bi#data\n",
    "y = handannotated_labels#target\n",
    "\n",
    "kf = KFold(n_splits=10, random_state=1, shuffle=True)\n",
    "\n",
    "# create model\n",
    "model = GaussianNB()\n",
    "\n",
    "# evaluate model\n",
    "scores = cross_val_score(model, X, y, scoring='accuracy', cv=kf, n_jobs=-1)\n",
    "print(\"scores:\", scores)\n",
    "\n",
    "# report performance\n",
    "print('Accuracy: %.3f (%.3f)' % (mean(scores), std(scores)))"
   ]
  },
  {
   "cell_type": "code",
   "execution_count": 99,
   "metadata": {},
   "outputs": [
    {
     "name": "stdout",
     "output_type": "stream",
     "text": [
      "scores: [0.8        0.6        0.5        0.7        0.8        0.9\n",
      " 0.9        0.44444444 0.44444444 0.66666667]\n",
      "Accuracy: 0.676 (0.166)\n"
     ]
    }
   ],
   "source": [
    "#21\n",
    "X = emot_tfidf#data\n",
    "y = handannotated_labels#target\n",
    "\n",
    "kf = KFold(n_splits=10, random_state=1, shuffle=True)\n",
    "\n",
    "# create model\n",
    "model = GaussianNB()\n",
    "\n",
    "# evaluate model\n",
    "scores = cross_val_score(model, X, y, scoring='accuracy', cv=kf, n_jobs=-1)\n",
    "print(\"scores:\", scores)\n",
    "\n",
    "# report performance\n",
    "print('Accuracy: %.3f (%.3f)' % (mean(scores), std(scores)))"
   ]
  },
  {
   "cell_type": "code",
   "execution_count": 100,
   "metadata": {},
   "outputs": [
    {
     "name": "stdout",
     "output_type": "stream",
     "text": [
      "scores: [0.6        0.2        0.8        0.8        1.         0.5\n",
      " 0.7        0.77777778 0.88888889 0.66666667]\n",
      "Accuracy: 0.693 (0.213)\n"
     ]
    }
   ],
   "source": [
    "#21\n",
    "X = emot_wordvec#data\n",
    "y = handannotated_labels#target\n",
    "\n",
    "kf = KFold(n_splits=10, random_state=1, shuffle=True)\n",
    "\n",
    "# create model\n",
    "model = GaussianNB()\n",
    "\n",
    "# evaluate model\n",
    "scores = cross_val_score(model, X, y, scoring='accuracy', cv=kf, n_jobs=-1)\n",
    "print(\"scores:\", scores)\n",
    "\n",
    "# report performance\n",
    "print('Accuracy: %.3f (%.3f)' % (mean(scores), std(scores)))"
   ]
  },
  {
   "cell_type": "code",
   "execution_count": 101,
   "metadata": {},
   "outputs": [
    {
     "name": "stdout",
     "output_type": "stream",
     "text": [
      "scores: [0.6        0.9        0.9        0.7        0.8        0.8\n",
      " 0.7        0.88888889 0.77777778 0.77777778]\n",
      "Accuracy: 0.784 (0.093)\n"
     ]
    }
   ],
   "source": [
    "#21\n",
    "X = emot_docvec#data\n",
    "y = handannotated_labels#target\n",
    "\n",
    "kf = KFold(n_splits=10, random_state=1, shuffle=True)\n",
    "\n",
    "# create model\n",
    "model = GaussianNB()\n",
    "\n",
    "# evaluate model\n",
    "scores = cross_val_score(model, X, y, scoring='accuracy', cv=kf, n_jobs=-1)\n",
    "print(\"scores:\", scores)\n",
    "\n",
    "# report performance\n",
    "print('Accuracy: %.3f (%.3f)' % (mean(scores), std(scores)))"
   ]
  },
  {
   "cell_type": "code",
   "execution_count": 27,
   "metadata": {},
   "outputs": [
    {
     "name": "stdout",
     "output_type": "stream",
     "text": [
      "scores: [0.7        0.7        0.8        0.9        1.         0.6\n",
      " 0.9        0.77777778 0.77777778 0.77777778]\n",
      "Accuracy: 0.793 (0.110)\n"
     ]
    }
   ],
   "source": [
    "#21\n",
    "X = contains_emotional_emojis#data\n",
    "y = handannotated_labels#target\n",
    "\n",
    "kf = KFold(n_splits=10, random_state=1, shuffle=True)\n",
    "\n",
    "# create model\n",
    "model = GaussianNB()\n",
    "\n",
    "# evaluate model\n",
    "scores = cross_val_score(model, X, y, scoring='accuracy', cv=kf, n_jobs=-1)\n",
    "print(\"scores:\", scores)\n",
    "\n",
    "# report performance\n",
    "print('Accuracy: %.3f (%.3f)' % (mean(scores), std(scores)))"
   ]
  },
  {
   "cell_type": "code",
   "execution_count": 102,
   "metadata": {},
   "outputs": [
    {
     "name": "stdout",
     "output_type": "stream",
     "text": [
      "scores: [0.7        0.7        0.8        0.9        1.         0.7\n",
      " 1.         0.88888889 0.88888889 0.77777778]\n",
      "Accuracy: 0.836 (0.111)\n"
     ]
    }
   ],
   "source": [
    "#21\n",
    "X = hash_#data\n",
    "y = handannotated_labels#target\n",
    "\n",
    "kf = KFold(n_splits=10, random_state=1, shuffle=True)\n",
    "\n",
    "# create model\n",
    "model = GaussianNB()\n",
    "\n",
    "# evaluate model\n",
    "scores = cross_val_score(model, X, y, scoring='accuracy', cv=kf, n_jobs=-1)\n",
    "print(\"scores:\", scores)\n",
    "\n",
    "# report performance\n",
    "print('Accuracy: %.3f (%.3f)' % (mean(scores), std(scores)))"
   ]
  },
  {
   "cell_type": "code",
   "execution_count": 103,
   "metadata": {},
   "outputs": [
    {
     "name": "stdout",
     "output_type": "stream",
     "text": [
      "scores: [0.7        0.6        0.6        0.7        0.8        0.9\n",
      " 0.9        0.44444444 0.44444444 0.77777778]\n",
      "Accuracy: 0.687 (0.156)\n"
     ]
    }
   ],
   "source": [
    "#21\n",
    "X = hash_uni#data\n",
    "y = handannotated_labels#target\n",
    "\n",
    "kf = KFold(n_splits=10, random_state=1, shuffle=True)\n",
    "\n",
    "# create model\n",
    "model = GaussianNB()\n",
    "\n",
    "# evaluate model\n",
    "scores = cross_val_score(model, X, y, scoring='accuracy', cv=kf, n_jobs=-1)\n",
    "print(\"scores:\", scores)\n",
    "\n",
    "# report performance\n",
    "print('Accuracy: %.3f (%.3f)' % (mean(scores), std(scores)))"
   ]
  },
  {
   "cell_type": "code",
   "execution_count": 104,
   "metadata": {},
   "outputs": [
    {
     "name": "stdout",
     "output_type": "stream",
     "text": [
      "scores: [0.5        0.4        0.6        0.7        0.4        0.7\n",
      " 0.7        0.44444444 0.66666667 0.88888889]\n",
      "Accuracy: 0.600 (0.152)\n"
     ]
    }
   ],
   "source": [
    "#21\n",
    "X = hash_bi#data\n",
    "y = handannotated_labels#target\n",
    "\n",
    "kf = KFold(n_splits=10, random_state=1, shuffle=True)\n",
    "\n",
    "# create model\n",
    "model = GaussianNB()\n",
    "\n",
    "# evaluate model\n",
    "scores = cross_val_score(model, X, y, scoring='accuracy', cv=kf, n_jobs=-1)\n",
    "print(\"scores:\", scores)\n",
    "\n",
    "# report performance\n",
    "print('Accuracy: %.3f (%.3f)' % (mean(scores), std(scores)))"
   ]
  },
  {
   "cell_type": "code",
   "execution_count": 105,
   "metadata": {},
   "outputs": [
    {
     "name": "stdout",
     "output_type": "stream",
     "text": [
      "scores: [0.8        0.6        0.5        0.7        0.8        0.9\n",
      " 0.9        0.55555556 0.44444444 0.77777778]\n",
      "Accuracy: 0.698 (0.156)\n"
     ]
    }
   ],
   "source": [
    "#21\n",
    "X = hash_tfidf#data\n",
    "y = handannotated_labels#target\n",
    "\n",
    "kf = KFold(n_splits=10, random_state=1, shuffle=True)\n",
    "\n",
    "# create model\n",
    "model = GaussianNB()\n",
    "\n",
    "# evaluate model\n",
    "scores = cross_val_score(model, X, y, scoring='accuracy', cv=kf, n_jobs=-1)\n",
    "print(\"scores:\", scores)\n",
    "\n",
    "# report performance\n",
    "print('Accuracy: %.3f (%.3f)' % (mean(scores), std(scores)))"
   ]
  },
  {
   "cell_type": "code",
   "execution_count": 106,
   "metadata": {},
   "outputs": [
    {
     "name": "stdout",
     "output_type": "stream",
     "text": [
      "scores: [0.6        0.2        0.8        0.8        1.         0.7\n",
      " 0.8        0.88888889 1.         0.77777778]\n",
      "Accuracy: 0.757 (0.219)\n"
     ]
    }
   ],
   "source": [
    "#21\n",
    "X = hash_wordvec#data\n",
    "y = handannotated_labels#target\n",
    "\n",
    "kf = KFold(n_splits=10, random_state=1, shuffle=True)\n",
    "\n",
    "# create model\n",
    "model = GaussianNB()\n",
    "\n",
    "# evaluate model\n",
    "scores = cross_val_score(model, X, y, scoring='accuracy', cv=kf, n_jobs=-1)\n",
    "print(\"scores:\", scores)\n",
    "\n",
    "# report performance\n",
    "print('Accuracy: %.3f (%.3f)' % (mean(scores), std(scores)))"
   ]
  },
  {
   "cell_type": "code",
   "execution_count": 107,
   "metadata": {},
   "outputs": [
    {
     "name": "stdout",
     "output_type": "stream",
     "text": [
      "scores: [0.7        0.9        0.9        0.7        0.8        0.9\n",
      " 0.7        0.88888889 0.88888889 0.77777778]\n",
      "Accuracy: 0.816 (0.086)\n"
     ]
    }
   ],
   "source": [
    "#21\n",
    "X = hash_docvec#data\n",
    "y = handannotated_labels#target\n",
    "\n",
    "kf = KFold(n_splits=10, random_state=1, shuffle=True)\n",
    "\n",
    "# create model\n",
    "model = GaussianNB()\n",
    "\n",
    "# evaluate model\n",
    "scores = cross_val_score(model, X, y, scoring='accuracy', cv=kf, n_jobs=-1)\n",
    "print(\"scores:\", scores)\n",
    "\n",
    "# report performance\n",
    "print('Accuracy: %.3f (%.3f)' % (mean(scores), std(scores)))"
   ]
  },
  {
   "cell_type": "code",
   "execution_count": 108,
   "metadata": {},
   "outputs": [
    {
     "name": "stdout",
     "output_type": "stream",
     "text": [
      "scores: [0.8        0.7        0.8        0.9        1.         0.7\n",
      " 1.         0.88888889 0.77777778 0.88888889]\n",
      "Accuracy: 0.846 (0.103)\n"
     ]
    }
   ],
   "source": [
    "#21\n",
    "X = hash_emot#data\n",
    "y = handannotated_labels#target\n",
    "\n",
    "kf = KFold(n_splits=10, random_state=1, shuffle=True)\n",
    "\n",
    "# create model\n",
    "model = GaussianNB()\n",
    "\n",
    "# evaluate model\n",
    "scores = cross_val_score(model, X, y, scoring='accuracy', cv=kf, n_jobs=-1)\n",
    "print(\"scores:\", scores)\n",
    "\n",
    "# report performance\n",
    "print('Accuracy: %.3f (%.3f)' % (mean(scores), std(scores)))"
   ]
  },
  {
   "cell_type": "code",
   "execution_count": 19,
   "metadata": {},
   "outputs": [],
   "source": [
    "#####test best features as combination########"
   ]
  },
  {
   "cell_type": "code",
   "execution_count": 34,
   "metadata": {},
   "outputs": [
    {
     "name": "stdout",
     "output_type": "stream",
     "text": [
      "scores: [0.5        0.7        0.8        0.7        0.8        0.6\n",
      " 0.4        0.77777778 0.66666667 0.66666667]\n",
      "Accuracy: 0.661 (0.124)\n"
     ]
    }
   ],
   "source": [
    "#best: docvec, tfidf, hashtags\n",
    "top3 = numpy.append(word_vector_feature, tfidf, 1)\n",
    "top3 = numpy.append(top3, hash_, 1)\n",
    "\n",
    "\n",
    "X = post_sent_punct#data\n",
    "y = handannotated_labels#target\n",
    "\n",
    "kf = KFold(n_splits=10, random_state=1, shuffle=True)\n",
    "\n",
    "# create model\n",
    "model = LogisticRegression(class_weight='balanced')\n",
    "\n",
    "# evaluate model\n",
    "scores = cross_val_score(model, X, y, scoring='accuracy', cv=kf, n_jobs=-1)\n",
    "print(\"scores:\", scores)\n",
    "\n",
    "# report performance\n",
    "print('Accuracy: %.3f (%.3f)' % (mean(scores), std(scores)))"
   ]
  },
  {
   "cell_type": "code",
   "execution_count": 32,
   "metadata": {},
   "outputs": [
    {
     "name": "stdout",
     "output_type": "stream",
     "text": [
      "scores: [0. 1. 0. 1. 0. 0. 1. 1. 0. 1. 0. 1. 1. 0. 1. 1. 1. 1. 1. 0. 1. 1. 1. 1.\n",
      " 1. 1. 0. 0. 1. 1. 0. 1. 1. 1. 1. 1. 0. 1. 1. 1. 1. 0. 1. 1. 1. 1. 1. 1.\n",
      " 1. 0. 1. 0. 1. 0. 1. 0. 0. 1. 0. 1. 1. 0. 0. 0. 1. 0. 0. 1. 0. 1. 1. 1.\n",
      " 1. 1. 1. 1. 0. 1. 1. 1. 0. 1. 1. 0. 1. 0. 1. 1. 0. 1. 1. 0. 1. 0. 1. 1.\n",
      " 1.]\n",
      "Accuracy: 0.670 (0.470)\n"
     ]
    }
   ],
   "source": [
    "#test leave one out \n",
    "X = post_sent_punct#data\n",
    "y = handannotated_labels#target\n",
    "\n",
    "kf = KFold(n_splits=97, random_state=1, shuffle=True)\n",
    "\n",
    "# create model\n",
    "model = LogisticRegression(class_weight='balanced')\n",
    "\n",
    "# evaluate model\n",
    "scores = cross_val_score(model, X, y, scoring='accuracy', cv=kf, n_jobs=-1)\n",
    "print(\"scores:\", scores)\n",
    "\n",
    "# report performance\n",
    "print('Accuracy: %.3f (%.3f)' % (mean(scores), std(scores)))"
   ]
  },
  {
   "cell_type": "code",
   "execution_count": 37,
   "metadata": {},
   "outputs": [
    {
     "name": "stdout",
     "output_type": "stream",
     "text": [
      "scores: [0.9        0.9        0.9        0.9        1.         0.8\n",
      " 0.9        1.         1.         0.55555556]\n",
      "Accuracy: 0.886 (0.125)\n"
     ]
    }
   ],
   "source": [
    "#test leave one out \n",
    "X = word_vector_feature#data\n",
    "y = handannotated_labels#target\n",
    "\n",
    "kf = KFold(n_splits=10, random_state=1, shuffle=True)\n",
    "\n",
    "# create model\n",
    "model = LogisticRegression(class_weight='balanced')\n",
    "\n",
    "# evaluate model\n",
    "scores = cross_val_score(model, X, y, scoring='accuracy', cv=kf, n_jobs=-1)\n",
    "print(\"scores:\", scores)\n",
    "\n",
    "# report performance\n",
    "print('Accuracy: %.3f (%.3f)' % (mean(scores), std(scores)))"
   ]
  },
  {
   "cell_type": "code",
   "execution_count": null,
   "metadata": {},
   "outputs": [],
   "source": []
  }
 ],
 "metadata": {
  "kernelspec": {
   "display_name": "Python 3",
   "language": "python",
   "name": "python3"
  },
  "language_info": {
   "codemirror_mode": {
    "name": "ipython",
    "version": 3
   },
   "file_extension": ".py",
   "mimetype": "text/x-python",
   "name": "python",
   "nbconvert_exporter": "python",
   "pygments_lexer": "ipython3",
   "version": "3.7.7"
  }
 },
 "nbformat": 4,
 "nbformat_minor": 4
}
